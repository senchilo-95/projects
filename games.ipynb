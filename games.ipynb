{
 "cells": [
  {
   "cell_type": "markdown",
   "metadata": {},
   "source": [
    "# План работы\n",
    "\n",
    "### Шаг 1. Открытие и предварительный анализ данных\n",
    "\n",
    "### Шаг 2. Подготовка данных\n",
    "#### 1. Удаление пропусков\n",
    "#### 2. Удаление дубликатов\n",
    "#### 3. Перевод в подходящие форматы\n",
    "#### 4. Предварительная группировка данных\n",
    "\n",
    "### Шаг 3. Исследовательский анализ данных\n",
    "1. Анализ выпуска игр по годам. Находим года со значимым количеством выпускаемых игр для проведения анализа. Далее анализируем данные только за этот период.\n",
    "2. Анализ изменения количества и суммы продаж по платформам. Определния среднего срока существования платформ.\n",
    "3. Выбор нескольких потенциально прибыльных платформ.\n",
    "6. Анализ \"коробок с усами\" для платформ и жанров.\n",
    "7. Анализ отзывов критиков и пользователей.\n",
    "8. Соотнесите выводы с продажами игр на других платформах.\n",
    "9. Посмотрите на общее распределение игр по жанрам. Что можно сказать о самых прибыльных жанрах? Выделяются ли жанры с высокими и низкими продажами?\n",
    "\n",
    "\n"
   ]
  },
  {
   "cell_type": "code",
   "execution_count": 2,
   "metadata": {},
   "outputs": [
    {
     "name": "stdout",
     "output_type": "stream",
     "text": [
      "Collecting plotly\n",
      "  Downloading plotly-4.14.3-py2.py3-none-any.whl (13.2 MB)\n",
      "Collecting retrying>=1.3.3\n",
      "  Using cached retrying-1.3.3.tar.gz (10 kB)\n",
      "Requirement already satisfied: six in c:\\users\\1\\anaconda3\\lib\\site-packages (from plotly) (1.15.0)\n",
      "Building wheels for collected packages: retrying\n",
      "  Building wheel for retrying (setup.py): started\n",
      "  Building wheel for retrying (setup.py): finished with status 'done'\n",
      "  Created wheel for retrying: filename=retrying-1.3.3-py3-none-any.whl size=11434 sha256=1c3fc290543790f6ab82dc44de005afedda7bc62eb37699c23cbc33521214166\n",
      "  Stored in directory: c:\\users\\1\\appdata\\local\\pip\\cache\\wheels\\c4\\a7\\48\\0a434133f6d56e878ca511c0e6c38326907c0792f67b476e56\n",
      "Successfully built retrying\n",
      "Installing collected packages: retrying, plotly\n",
      "Successfully installed plotly-4.14.3 retrying-1.3.3\n"
     ]
    }
   ],
   "source": [
    "!pip install plotly"
   ]
  },
  {
   "cell_type": "code",
   "execution_count": 3,
   "metadata": {},
   "outputs": [],
   "source": [
    "import numpy as np\n",
    "import seaborn as sns\n",
    "import matplotlib.pyplot as plt\n",
    "from plotly.offline import download_plotlyjs, init_notebook_mode, plot, iplot\n",
    "import plotly\n",
    "# Стандартное импортирование plotly\n",
    "\n",
    "import plotly.graph_objects as go\n",
    "\n",
    "\n",
    "# Использование cufflinks в офлайн-режиме\n",
    "#import cufflinks\n",
    "#cufflinks.go_offline()\n",
    "\n",
    "import pandas as pd\n",
    "import scipy as sp\n",
    "import matplotlib.ticker as ticker\n",
    "import nltk\n",
    "from nltk.stem.porter import PorterStemmer\n",
    "porter_stemmer = PorterStemmer()\n",
    "\n",
    "import warnings \n",
    "warnings.simplefilter(\"ignore\")"
   ]
  },
  {
   "cell_type": "markdown",
   "metadata": {},
   "source": [
    "Описание данных\n",
    "---\n",
    "-\tName — название игры\n",
    "-\tPlatform — платформа\n",
    "-\tYear_of_Release — год выпуска\n",
    "-\tGenre — жанр игры\n",
    "-\tNA_sales — продажи в Северной Америке (миллионы долларов)\n",
    "-\tEU_sales — продажи в Европе (миллионы долларов)\n",
    "-\tJP_sales — продажи в Японии (миллионы долларов)\n",
    "-\tOther_sales — продажи в других странах (миллионы долларов)\n",
    "-\tCritic_Score — оценка критиков (максимум 100)\n",
    "-\tUser_Score — оценка пользователей (максимум 10)\n",
    "-\tRating — рейтинг от организации ESRB (англ. Entertainment Software Rating Board). Эта ассоциация определяет рейтинг компьютерных игр и присваивает им подходящую возрастную категорию.\n",
    "\n",
    "\n",
    "\n",
    "# 1. Подготовка данных\n",
    "\n",
    "1. Загружаем данные\n",
    "2. Приводим название столбцов к нижнему регистру для удобства дальнейшей работы\n",
    "3. Анализируем пропуски в столбцах"
   ]
  },
  {
   "cell_type": "code",
   "execution_count": 4,
   "metadata": {},
   "outputs": [
    {
     "ename": "FileNotFoundError",
     "evalue": "[Errno 2] No such file or directory: '/datasets/games.csv'",
     "output_type": "error",
     "traceback": [
      "\u001b[1;31m---------------------------------------------------------------------------\u001b[0m",
      "\u001b[1;31mFileNotFoundError\u001b[0m                         Traceback (most recent call last)",
      "\u001b[1;32m<ipython-input-4-8d0d1d5df4c4>\u001b[0m in \u001b[0;36m<module>\u001b[1;34m\u001b[0m\n\u001b[1;32m----> 1\u001b[1;33m \u001b[0mgames\u001b[0m \u001b[1;33m=\u001b[0m \u001b[0mpd\u001b[0m\u001b[1;33m.\u001b[0m\u001b[0mread_csv\u001b[0m\u001b[1;33m(\u001b[0m\u001b[1;34m'/datasets/games.csv'\u001b[0m\u001b[1;33m)\u001b[0m\u001b[1;33m\u001b[0m\u001b[1;33m\u001b[0m\u001b[0m\n\u001b[0m\u001b[0;32m      2\u001b[0m \u001b[0mgames\u001b[0m\u001b[1;33m.\u001b[0m\u001b[0mcolumns\u001b[0m \u001b[1;33m=\u001b[0m \u001b[0mgames\u001b[0m\u001b[1;33m.\u001b[0m\u001b[0mcolumns\u001b[0m\u001b[1;33m.\u001b[0m\u001b[0mstr\u001b[0m\u001b[1;33m.\u001b[0m\u001b[0mlower\u001b[0m\u001b[1;33m(\u001b[0m\u001b[1;33m)\u001b[0m   \u001b[1;31m# заменяем назавния столбцов на нижний регистр\u001b[0m\u001b[1;33m\u001b[0m\u001b[1;33m\u001b[0m\u001b[0m\n\u001b[0;32m      3\u001b[0m \u001b[0mgames\u001b[0m\u001b[1;33m[\u001b[0m\u001b[1;34m'year_of_release'\u001b[0m\u001b[1;33m]\u001b[0m\u001b[1;33m=\u001b[0m\u001b[0mgames\u001b[0m\u001b[1;33m[\u001b[0m\u001b[1;34m'year_of_release'\u001b[0m\u001b[1;33m]\u001b[0m\u001b[1;33m.\u001b[0m\u001b[0mastype\u001b[0m\u001b[1;33m(\u001b[0m\u001b[1;34m'Int64'\u001b[0m\u001b[1;33m)\u001b[0m \u001b[1;31m#переводим в формат целых чисел для удобства работы\u001b[0m\u001b[1;33m\u001b[0m\u001b[1;33m\u001b[0m\u001b[0m\n\u001b[0;32m      4\u001b[0m \u001b[0mgames\u001b[0m\u001b[1;33m=\u001b[0m\u001b[0mgames\u001b[0m\u001b[1;33m.\u001b[0m\u001b[0mdropna\u001b[0m\u001b[1;33m(\u001b[0m\u001b[0msubset\u001b[0m\u001b[1;33m=\u001b[0m\u001b[1;33m[\u001b[0m\u001b[1;34m'name'\u001b[0m\u001b[1;33m]\u001b[0m\u001b[1;33m)\u001b[0m  \u001b[1;31m# игры без названия удалим, т.к. о них почти ничего не известно, они будут портить нам данные\u001b[0m\u001b[1;33m\u001b[0m\u001b[1;33m\u001b[0m\u001b[0m\n\u001b[0;32m      5\u001b[0m \u001b[0mprint\u001b[0m\u001b[1;33m(\u001b[0m\u001b[0mgames\u001b[0m\u001b[1;33m.\u001b[0m\u001b[0mduplicated\u001b[0m\u001b[1;33m(\u001b[0m\u001b[1;33m)\u001b[0m\u001b[1;33m.\u001b[0m\u001b[0msum\u001b[0m\u001b[1;33m(\u001b[0m\u001b[1;33m)\u001b[0m\u001b[1;33m)\u001b[0m\u001b[1;33m\u001b[0m\u001b[1;33m\u001b[0m\u001b[0m\n",
      "\u001b[1;32m~\\anaconda3\\lib\\site-packages\\pandas\\io\\parsers.py\u001b[0m in \u001b[0;36mread_csv\u001b[1;34m(filepath_or_buffer, sep, delimiter, header, names, index_col, usecols, squeeze, prefix, mangle_dupe_cols, dtype, engine, converters, true_values, false_values, skipinitialspace, skiprows, skipfooter, nrows, na_values, keep_default_na, na_filter, verbose, skip_blank_lines, parse_dates, infer_datetime_format, keep_date_col, date_parser, dayfirst, cache_dates, iterator, chunksize, compression, thousands, decimal, lineterminator, quotechar, quoting, doublequote, escapechar, comment, encoding, dialect, error_bad_lines, warn_bad_lines, delim_whitespace, low_memory, memory_map, float_precision)\u001b[0m\n\u001b[0;32m    684\u001b[0m     )\n\u001b[0;32m    685\u001b[0m \u001b[1;33m\u001b[0m\u001b[0m\n\u001b[1;32m--> 686\u001b[1;33m     \u001b[1;32mreturn\u001b[0m \u001b[0m_read\u001b[0m\u001b[1;33m(\u001b[0m\u001b[0mfilepath_or_buffer\u001b[0m\u001b[1;33m,\u001b[0m \u001b[0mkwds\u001b[0m\u001b[1;33m)\u001b[0m\u001b[1;33m\u001b[0m\u001b[1;33m\u001b[0m\u001b[0m\n\u001b[0m\u001b[0;32m    687\u001b[0m \u001b[1;33m\u001b[0m\u001b[0m\n\u001b[0;32m    688\u001b[0m \u001b[1;33m\u001b[0m\u001b[0m\n",
      "\u001b[1;32m~\\anaconda3\\lib\\site-packages\\pandas\\io\\parsers.py\u001b[0m in \u001b[0;36m_read\u001b[1;34m(filepath_or_buffer, kwds)\u001b[0m\n\u001b[0;32m    450\u001b[0m \u001b[1;33m\u001b[0m\u001b[0m\n\u001b[0;32m    451\u001b[0m     \u001b[1;31m# Create the parser.\u001b[0m\u001b[1;33m\u001b[0m\u001b[1;33m\u001b[0m\u001b[1;33m\u001b[0m\u001b[0m\n\u001b[1;32m--> 452\u001b[1;33m     \u001b[0mparser\u001b[0m \u001b[1;33m=\u001b[0m \u001b[0mTextFileReader\u001b[0m\u001b[1;33m(\u001b[0m\u001b[0mfp_or_buf\u001b[0m\u001b[1;33m,\u001b[0m \u001b[1;33m**\u001b[0m\u001b[0mkwds\u001b[0m\u001b[1;33m)\u001b[0m\u001b[1;33m\u001b[0m\u001b[1;33m\u001b[0m\u001b[0m\n\u001b[0m\u001b[0;32m    453\u001b[0m \u001b[1;33m\u001b[0m\u001b[0m\n\u001b[0;32m    454\u001b[0m     \u001b[1;32mif\u001b[0m \u001b[0mchunksize\u001b[0m \u001b[1;32mor\u001b[0m \u001b[0miterator\u001b[0m\u001b[1;33m:\u001b[0m\u001b[1;33m\u001b[0m\u001b[1;33m\u001b[0m\u001b[0m\n",
      "\u001b[1;32m~\\anaconda3\\lib\\site-packages\\pandas\\io\\parsers.py\u001b[0m in \u001b[0;36m__init__\u001b[1;34m(self, f, engine, **kwds)\u001b[0m\n\u001b[0;32m    944\u001b[0m             \u001b[0mself\u001b[0m\u001b[1;33m.\u001b[0m\u001b[0moptions\u001b[0m\u001b[1;33m[\u001b[0m\u001b[1;34m\"has_index_names\"\u001b[0m\u001b[1;33m]\u001b[0m \u001b[1;33m=\u001b[0m \u001b[0mkwds\u001b[0m\u001b[1;33m[\u001b[0m\u001b[1;34m\"has_index_names\"\u001b[0m\u001b[1;33m]\u001b[0m\u001b[1;33m\u001b[0m\u001b[1;33m\u001b[0m\u001b[0m\n\u001b[0;32m    945\u001b[0m \u001b[1;33m\u001b[0m\u001b[0m\n\u001b[1;32m--> 946\u001b[1;33m         \u001b[0mself\u001b[0m\u001b[1;33m.\u001b[0m\u001b[0m_make_engine\u001b[0m\u001b[1;33m(\u001b[0m\u001b[0mself\u001b[0m\u001b[1;33m.\u001b[0m\u001b[0mengine\u001b[0m\u001b[1;33m)\u001b[0m\u001b[1;33m\u001b[0m\u001b[1;33m\u001b[0m\u001b[0m\n\u001b[0m\u001b[0;32m    947\u001b[0m \u001b[1;33m\u001b[0m\u001b[0m\n\u001b[0;32m    948\u001b[0m     \u001b[1;32mdef\u001b[0m \u001b[0mclose\u001b[0m\u001b[1;33m(\u001b[0m\u001b[0mself\u001b[0m\u001b[1;33m)\u001b[0m\u001b[1;33m:\u001b[0m\u001b[1;33m\u001b[0m\u001b[1;33m\u001b[0m\u001b[0m\n",
      "\u001b[1;32m~\\anaconda3\\lib\\site-packages\\pandas\\io\\parsers.py\u001b[0m in \u001b[0;36m_make_engine\u001b[1;34m(self, engine)\u001b[0m\n\u001b[0;32m   1176\u001b[0m     \u001b[1;32mdef\u001b[0m \u001b[0m_make_engine\u001b[0m\u001b[1;33m(\u001b[0m\u001b[0mself\u001b[0m\u001b[1;33m,\u001b[0m \u001b[0mengine\u001b[0m\u001b[1;33m=\u001b[0m\u001b[1;34m\"c\"\u001b[0m\u001b[1;33m)\u001b[0m\u001b[1;33m:\u001b[0m\u001b[1;33m\u001b[0m\u001b[1;33m\u001b[0m\u001b[0m\n\u001b[0;32m   1177\u001b[0m         \u001b[1;32mif\u001b[0m \u001b[0mengine\u001b[0m \u001b[1;33m==\u001b[0m \u001b[1;34m\"c\"\u001b[0m\u001b[1;33m:\u001b[0m\u001b[1;33m\u001b[0m\u001b[1;33m\u001b[0m\u001b[0m\n\u001b[1;32m-> 1178\u001b[1;33m             \u001b[0mself\u001b[0m\u001b[1;33m.\u001b[0m\u001b[0m_engine\u001b[0m \u001b[1;33m=\u001b[0m \u001b[0mCParserWrapper\u001b[0m\u001b[1;33m(\u001b[0m\u001b[0mself\u001b[0m\u001b[1;33m.\u001b[0m\u001b[0mf\u001b[0m\u001b[1;33m,\u001b[0m \u001b[1;33m**\u001b[0m\u001b[0mself\u001b[0m\u001b[1;33m.\u001b[0m\u001b[0moptions\u001b[0m\u001b[1;33m)\u001b[0m\u001b[1;33m\u001b[0m\u001b[1;33m\u001b[0m\u001b[0m\n\u001b[0m\u001b[0;32m   1179\u001b[0m         \u001b[1;32melse\u001b[0m\u001b[1;33m:\u001b[0m\u001b[1;33m\u001b[0m\u001b[1;33m\u001b[0m\u001b[0m\n\u001b[0;32m   1180\u001b[0m             \u001b[1;32mif\u001b[0m \u001b[0mengine\u001b[0m \u001b[1;33m==\u001b[0m \u001b[1;34m\"python\"\u001b[0m\u001b[1;33m:\u001b[0m\u001b[1;33m\u001b[0m\u001b[1;33m\u001b[0m\u001b[0m\n",
      "\u001b[1;32m~\\anaconda3\\lib\\site-packages\\pandas\\io\\parsers.py\u001b[0m in \u001b[0;36m__init__\u001b[1;34m(self, src, **kwds)\u001b[0m\n\u001b[0;32m   2006\u001b[0m         \u001b[0mkwds\u001b[0m\u001b[1;33m[\u001b[0m\u001b[1;34m\"usecols\"\u001b[0m\u001b[1;33m]\u001b[0m \u001b[1;33m=\u001b[0m \u001b[0mself\u001b[0m\u001b[1;33m.\u001b[0m\u001b[0musecols\u001b[0m\u001b[1;33m\u001b[0m\u001b[1;33m\u001b[0m\u001b[0m\n\u001b[0;32m   2007\u001b[0m \u001b[1;33m\u001b[0m\u001b[0m\n\u001b[1;32m-> 2008\u001b[1;33m         \u001b[0mself\u001b[0m\u001b[1;33m.\u001b[0m\u001b[0m_reader\u001b[0m \u001b[1;33m=\u001b[0m \u001b[0mparsers\u001b[0m\u001b[1;33m.\u001b[0m\u001b[0mTextReader\u001b[0m\u001b[1;33m(\u001b[0m\u001b[0msrc\u001b[0m\u001b[1;33m,\u001b[0m \u001b[1;33m**\u001b[0m\u001b[0mkwds\u001b[0m\u001b[1;33m)\u001b[0m\u001b[1;33m\u001b[0m\u001b[1;33m\u001b[0m\u001b[0m\n\u001b[0m\u001b[0;32m   2009\u001b[0m         \u001b[0mself\u001b[0m\u001b[1;33m.\u001b[0m\u001b[0munnamed_cols\u001b[0m \u001b[1;33m=\u001b[0m \u001b[0mself\u001b[0m\u001b[1;33m.\u001b[0m\u001b[0m_reader\u001b[0m\u001b[1;33m.\u001b[0m\u001b[0munnamed_cols\u001b[0m\u001b[1;33m\u001b[0m\u001b[1;33m\u001b[0m\u001b[0m\n\u001b[0;32m   2010\u001b[0m \u001b[1;33m\u001b[0m\u001b[0m\n",
      "\u001b[1;32mpandas\\_libs\\parsers.pyx\u001b[0m in \u001b[0;36mpandas._libs.parsers.TextReader.__cinit__\u001b[1;34m()\u001b[0m\n",
      "\u001b[1;32mpandas\\_libs\\parsers.pyx\u001b[0m in \u001b[0;36mpandas._libs.parsers.TextReader._setup_parser_source\u001b[1;34m()\u001b[0m\n",
      "\u001b[1;31mFileNotFoundError\u001b[0m: [Errno 2] No such file or directory: '/datasets/games.csv'"
     ]
    }
   ],
   "source": [
    "games = pd.read_csv('/datasets/games.csv')\n",
    "games.columns = games.columns.str.lower()   # заменяем назавния столбцов на нижний регистр\n",
    "games['year_of_release']=games['year_of_release'].astype('Int64') #переводим в формат целых чисел для удобства работы\n",
    "games=games.dropna(subset=['name'])  # игры без названия удалим, т.к. о них почти ничего не известно, они будут портить нам данные\n",
    "print(games.duplicated().sum())\n",
    "print(games.info())\n",
    "print(games.isna().sum())\n",
    "print(games['rating'].value_counts())"
   ]
  },
  {
   "cell_type": "markdown",
   "metadata": {},
   "source": [
    "Вывод\n",
    "---\n",
    "В нашем датасете games нет дубликатов.\n",
    "Большинство игр имеют следующий рейтинг:\n",
    "- E       3990 (Everyone) - для всех\n",
    "- T       2961 («Teen») — «Подросткам»\n",
    "- M       1563 («Mature») — «Для взрослых»\n",
    "- E10+    1420  («Everyone 10 and older») — «Для всех от 10 лет и старше»\n",
    "Удалив два не информативных объекта, осталось следующее количество пропусков по столбцам:\n",
    "- year_of_release     269\n",
    "- critic_score       8576\n",
    "- user_score         6699\n",
    "- rating             6764\n",
    "\n",
    "Поочередно избавимся от пропусков в каждом столбце\n",
    "\n",
    "Замена пустых значений. Год\n",
    "---\n",
    "Поскольку игры выпускаются на разных платформах, возьмем за год выпуска медианный со всех платформ и вставим в отсутствующие значения"
   ]
  },
  {
   "cell_type": "code",
   "execution_count": null,
   "metadata": {},
   "outputs": [],
   "source": [
    "name_to_median = games.groupby(\"name\")['year_of_release'].median().to_dict()\n",
    "# print(name_to_median)\n",
    "def from_name_filler(row):\n",
    "    if np.isnan(row['year_of_release']):\n",
    "        return name_to_median.get(row[\"name\"])\n",
    "    return row['year_of_release']\n",
    " \n",
    "games['year_of_release'] = games.apply(from_name_filler, axis=1)\n",
    "print(games.isna().sum())"
   ]
  },
  {
   "cell_type": "markdown",
   "metadata": {},
   "source": [
    "Таким образом м избавились от 123 пустых значений в столбце 'year_of_release\". Однако на графике продаж по годам после этого случились провалы в данных, поэтому этом метод отбросим.\n",
    "\n",
    "Для остальных значений мы возьмем медианный год существования платформы, на которой выпущена игра."
   ]
  },
  {
   "cell_type": "code",
   "execution_count": null,
   "metadata": {},
   "outputs": [],
   "source": [
    "platform_to_median = games.groupby(\"platform\")['year_of_release'].median().to_dict()\n",
    "print(platform_to_median)\n",
    "def from_platform_filler(row):\n",
    "    if np.isnan(row['year_of_release']):\n",
    "        return platform_to_median.get(row[\"platform\"])\n",
    "    return row['year_of_release']\n",
    "games['year_of_release'] = games.apply(from_platform_filler, axis=1)"
   ]
  },
  {
   "cell_type": "markdown",
   "metadata": {},
   "source": [
    "Вывод\n",
    "---\n",
    "Ура! Мы избавились от пропущенных значений в столбце года релиза. Работаем дальше!"
   ]
  },
  {
   "cell_type": "markdown",
   "metadata": {},
   "source": [
    "Жанр\n",
    "---\n"
   ]
  },
  {
   "cell_type": "code",
   "execution_count": null,
   "metadata": {},
   "outputs": [],
   "source": [
    "print(games['genre'].value_counts())"
   ]
  },
  {
   "cell_type": "code",
   "execution_count": null,
   "metadata": {},
   "outputs": [],
   "source": [
    "fig, ax = plt.subplots(figsize=(10,10), subplot_kw=dict(aspect=\"equal\"))\n",
    "ax.pie(games['genre'].value_counts(),autopct='%1.1f%%', labels = games['genre'].value_counts().index,wedgeprops=dict(width=.7))\n",
    "\n",
    "ax.set_title(\"Распределение игр по жанрам\")\n",
    "\n",
    "\n",
    "plt.show()"
   ]
  },
  {
   "cell_type": "markdown",
   "metadata": {},
   "source": [
    "Вывод:\n",
    "---\n",
    "больше всего игр выпускается в жанрах: \"спорт\", \"Экшн\", \"разное\""
   ]
  },
  {
   "cell_type": "markdown",
   "metadata": {},
   "source": [
    "Рейтинг\n",
    "---\n"
   ]
  },
  {
   "cell_type": "code",
   "execution_count": null,
   "metadata": {},
   "outputs": [],
   "source": [
    "print(\"В столбце рейтинг {} пустых значений\".format(games['rating'].isna().sum()))\n",
    "rating_pivot = games.pivot_table(index='rating',values='critic_score',aggfunc={'median'})\n",
    "print(rating_pivot)"
   ]
  },
  {
   "cell_type": "markdown",
   "metadata": {},
   "source": [
    "__Обработка значений 'tbd' и пустых значений в столбце user_score и critic_score__\n",
    "\n",
    "Рейтинг 'tbd' означает to be discussed или to be determined, что означает, что для вывода рейтинга недостаточно данных.\n",
    "Попробуем проследить зависимость рейтинга от имеющихся данных.\n",
    "Наибольшая корреляция по методу Спирмана у оценок юзеров с оценками критиков.\n",
    "Значение tbd чаще всего встречается в играх с рейтингом Е и примерно одинаково распределено по играм всех жанров. Возьмем медианное значение оценок пользователей по жанру и заполним им пустые значения."
   ]
  },
  {
   "cell_type": "code",
   "execution_count": null,
   "metadata": {},
   "outputs": [],
   "source": [
    "games_critic=games.groupby(\"genre\")['critic_score'].mean().to_dict()\n",
    "print(games_critic)\n",
    "\n",
    "def critic_filler(row):\n",
    "    if np.isnan(row['critic_score']):      \n",
    "        return games_critic.get(row['genre'])\n",
    "    return row['critic_score']\n",
    "games['critic_score'] = games.apply(critic_filler,axis=1)\n",
    "print(games.isna().sum())"
   ]
  },
  {
   "cell_type": "markdown",
   "metadata": {},
   "source": [
    "\n"
   ]
  },
  {
   "cell_type": "code",
   "execution_count": null,
   "metadata": {},
   "outputs": [],
   "source": [
    "games_not_tbd = games.query('user_score != \"tbd\"')\n",
    "games_not_tbd['user_score']=games_not_tbd['user_score'].astype('float64')\n",
    "games_not_tbd=games_not_tbd.dropna()\n",
    "games_not_tbd_dict=games_not_tbd.groupby(\"genre\")['user_score'].median().to_dict()\n",
    "\n",
    "def tbd_filler(row):\n",
    "    if (row['user_score'] == \"tbd\") or np.isnan(float(row['user_score'])):      \n",
    "        return games_not_tbd_dict.get(row['genre'])\n",
    "    return row['user_score']\n",
    " \n",
    "games['user_score'] = games.apply(tbd_filler, axis=1)\n",
    "print(games.isna().sum())\n",
    "games['user_score']=games['user_score'].astype('float64')\n"
   ]
  },
  {
   "cell_type": "markdown",
   "metadata": {},
   "source": [
    "Анализ суммарных продаж по всем регионам\n",
    "---\n",
    "Проанализируем, сколько в среднем собирает одна игра, а также сделаем графический анализ изменения количества продаж игр по годам.\n",
    "Проведем анализ, как долго в среднем держится наиболее популярная платформа на рынке."
   ]
  },
  {
   "cell_type": "code",
   "execution_count": null,
   "metadata": {},
   "outputs": [],
   "source": [
    "fig, ax = plt.subplots()\n",
    "ax.hist(games['na_sales'], color='r',bins=300,alpha=0.3, label='продажи в Сев.Америке')\n",
    "ax.hist(games['eu_sales'], color='b',bins=300,alpha=0.3, label='продажи в Европе')\n",
    "ax.hist(games['jp_sales'],color='g', bins=300,alpha=0.3, label='продажи в Японии')\n",
    "ax.hist(games['other_sales'], color='r',bins=300,alpha=0.3, label='продажи в др.странах')\n",
    "ax.set_xlabel('Суммарная выручка, млн$')\n",
    "ax.set_ylabel('количество игр')\n",
    "ax.legend()\n",
    "ax.set_title('Продажи игр по разным континентам')\n",
    "ax.set_xlim(xmin=0, xmax=0.5)\n",
    "plt.show()\n",
    "#создадим новый столбец с сумарными сборами\n",
    "fig, ax = plt.subplots()\n",
    "games['total_sales']= games['na_sales']+games['eu_sales']+games['jp_sales']+games['other_sales']\n",
    "ax.hist(games['total_sales'], color='r',bins=100)\n",
    "ax.set_title('Суммарные продажи игр по всему миру')\n",
    "ax.set_xlabel('Суммарная выручка, млн$')\n",
    "ax.set_ylabel('количество игр')\n",
    "ax.set_xlim(xmin=0, xmax=5)\n",
    "plt.show()\n",
    "games_df = games[[x for x in games.columns if 'sales' in x] + ['year_of_release']]\n",
    "games_df.groupby('year_of_release').sum().plot(title= 'Продажи по различных континентам')\n",
    "plt.xlabel(\"Год выпуска\")\n",
    "plt.ylabel(\"Суммарная выручка, млн$\")\n",
    "plt.show()"
   ]
  },
  {
   "cell_type": "markdown",
   "metadata": {},
   "source": [
    "# Шаг 3. Исследовательский анализ данных.\n",
    "1. •\tПосмотрите, сколько игр выпускалось в разные годы. Важны ли данные за все периоды?"
   ]
  },
  {
   "cell_type": "code",
   "execution_count": null,
   "metadata": {},
   "outputs": [],
   "source": [
    "games['year_of_release'].plot(xlim=(1975,2020),kind='hist',bins=50,title=('Продажи по годам'))\n",
    "plt.xlabel('Год', fontsize=12)\n",
    "plt.ylabel('Количество продаж', fontsize=12)\n",
    "plt.show()\n",
    "games['year_of_release'].plot(xlim=(1999,2016),ylim=(500,1500),kind='hist',bins=70,title=('Актуальный период продаж игр'),grid=True)\n",
    "plt.xlabel('Год', fontsize=12)\n",
    "plt.ylabel('Количество продаж', fontsize=12)\n",
    "plt.show()\n",
    "games_actual_period =(\n",
    "    games.pivot_table(index='platform',values='year_of_release',aggfunc={'min','max'}).sort_values(by='max', ascending=False))\n",
    "display(games_actual_period)\n",
    "print(games[games['platform'] == \"GB\"]['total_sales'].agg({'sum','count'}))"
   ]
  },
  {
   "cell_type": "markdown",
   "metadata": {},
   "source": [
    "Вывод\n",
    "--\n",
    "с 2002 по 2016 год не выпускалось менее 500 игр в год\n",
    "У GameBox (GB) были высокие продажи, однако продано было всего 98 игр, что портит статистику, поэтому отбросим их продажи, примем началом актуального периода 2002 год (Геймбокс закончили выпускать в 2001ом)."
   ]
  },
  {
   "cell_type": "markdown",
   "metadata": {},
   "source": [
    "2.\tПосмотрите, как менялись продажи по платформам. Выберите платформы с наибольшими суммарными продажами и постройте распределение по годам. За какой характерный срок появляются новые и исчезают старые платформы?"
   ]
  },
  {
   "cell_type": "code",
   "execution_count": null,
   "metadata": {},
   "outputs": [],
   "source": [
    "games_actual_years = games.query('2002<=year_of_release<=2015')\n",
    "games_sales_to_platform = games_actual_years.groupby('platform')['total_sales'].sum().sort_values(ascending=False).head(15)\n",
    "games_top_prices =(\n",
    "    games.query('platform in @games_sales_to_platform.index').\n",
    "    pivot_table(index='platform',values='year_of_release',aggfunc={'min','max'})\n",
    ")\n",
    "merged_sales = pd.concat([games_top_prices,games_sales_to_platform],axis=1,sort=True)\n",
    "merged_sales['total_time']=merged_sales['max']-merged_sales['min']\n",
    "merged_sales = merged_sales.sort_values(by='total_sales',ascending=False)\n",
    "print(merged_sales)\n",
    "print(\"\\nсредний срок существования 5 самых прибыльных платформ: {:.0f} лет\"\n",
    "      .format(merged_sales['total_time'].head(5).median()))\n"
   ]
  },
  {
   "cell_type": "markdown",
   "metadata": {},
   "source": [
    "4. Не учитывайте в работе данные за предыдущие годы."
   ]
  },
  {
   "cell_type": "code",
   "execution_count": null,
   "metadata": {},
   "outputs": [],
   "source": [
    "%matplotlib inline  \n",
    "games_actual_years = games.query('2002<=year_of_release<=2015')[games['platform'].isin(merged_sales.index)]\n",
    "fig,ax=plt.subplots()\n",
    "\n",
    "for i in range(len(merged_sales)):\n",
    "    ax.plot(games_actual_years[games_actual_years['platform'] == merged_sales.index[i]]\n",
    "            .groupby('year_of_release')['total_sales'].sum(),label=str(merged_sales.index[i]))\n",
    "    \n",
    "plt.legend()\n",
    "plt.grid(True)\n",
    "fig = plt.gcf() \n",
    "plt.xlim(2002,2017)\n",
    "fig.set_size_inches(18.5, 10.5)\n",
    "plt.xlabel('Год', fontsize=12)\n",
    "plt.ylabel('Количество продаж', fontsize=12)\n",
    "plt.show()\n"
   ]
  },
  {
   "cell_type": "markdown",
   "metadata": {},
   "source": [
    "5. Какие платформы лидируют по продажам, растут или падают? Выберите несколько потенциально прибыльных платформ\n",
    "\n",
    "#### Вывод: \n",
    "В 2009 -2011 гг. были пики продаж платформ GB, GBA, PS3\n",
    "Затем продажи начали падать, на 2013 год наиболее продаваемыми остались PS3,PS4, GBA, 3DS.  У PS4 заметен наиболее резкий рост продаж с момента запуска. Резкий спад , вероятно, обусловлен неполной статистикой за 2016 год. Так что, отдадим первенство в номинации \"перспективная платформа\" именно ей. Также XOne демонстрирует рост.\n",
    "\n",
    "__Проверим, в каких регионах игры на PS4 продаются лучше всего__"
   ]
  },
  {
   "cell_type": "code",
   "execution_count": null,
   "metadata": {},
   "outputs": [],
   "source": [
    "games_df_PS4 = games.query('platform==\"PS4\"')[[x for x in games.columns if 'sales' in x] + ['year_of_release']]\n",
    "# games_df_PS4 = games_df.query('platform == \"PS4\"')\n",
    "games_df_PS4.groupby('year_of_release').sum().plot(title= 'Продажи по различных континентам на платформе PS4')\n",
    "plt.xlabel(\"Год выпуска\")\n",
    "plt.ylabel(\"Суммарная выручка, млн$\")\n",
    "plt.show()"
   ]
  },
  {
   "cell_type": "markdown",
   "metadata": {},
   "source": [
    "#### Вывод\n",
    "Лучше всего игры на PS4 продавать в Северной Америке.\n",
    "\n",
    "\n",
    "6.\tПостройте график «ящик с усами» по глобальным продажам каждой игры и разбивкой по платформам. Велика ли разница в продажах? А в средних продажах на разных платформах? Опишите результат."
   ]
  },
  {
   "cell_type": "code",
   "execution_count": null,
   "metadata": {
    "scrolled": false
   },
   "outputs": [],
   "source": [
    "# создаем Box trace для каждого жанра из наших данных\n",
    "# для более наглядного отображения ограничим общую сумму продаж для игр в актуальном промежутке времени до 2млн$\n",
    "games_actual_years = games.query('2002 <= year_of_release <=2016 and total_sales <=2')[games['platform'].isin(merged_sales.index)]\n",
    "games_top_platforms_sorted = games_actual_years.groupby('platform')['total_sales'].median().sort_values(ascending=False)\n",
    "games_top_genre_sorted = games_actual_years.groupby('genre')['total_sales'].median().sort_values(ascending=False)\n",
    "games_top_users_sorted = games_actual_years.groupby('genre')['user_score'].median().sort_values(ascending=False)\n",
    "games_top_critics_sorted = games_actual_years.groupby('platform')['critic_score'].median().sort_values(ascending=False)\n",
    "# print(games_top_platforms_sorted.index)\n",
    "\n",
    "\n",
    "\n",
    "\n",
    "data_platform = []\n",
    "for platform in games_top_platforms_sorted.index:\n",
    "    data_platform.append(\n",
    "        go.Box(y=games_actual_years[games_actual_years['platform']==platform].total_sales, name=platform)\n",
    "    )\n",
    "\n",
    "fig = go.Figure(\n",
    "    data=data_platform,\n",
    "    layout=dict(title=dict(text=\"Зависимость Продаж по всем регионам от платформы\"))\n",
    ")\n",
    "\n",
    "fig.show()    \n",
    "    \n",
    "# iplot(data_platform, show_link = False)\n",
    "\n",
    "\n",
    "data_genre = []\n",
    "for genre in games_top_genre_sorted.index:\n",
    "    data_genre.append(\n",
    "        go.Box(y=games_actual_years[games_actual_years['genre']==genre].total_sales, name=genre)\n",
    "    )\n",
    "# визуализируем данные\n",
    "\n",
    "\n",
    "fig = go.Figure(\n",
    "    data=data_genre,\n",
    "    layout=dict(title=dict(text=\"Зависимость суммарных продаж от жанра\"))\n",
    ")\n",
    "\n",
    "fig.show()\n",
    "# iplot(data_genre,show_link = False)\n",
    "\n",
    "data_genre = []\n",
    "for genre in games_top_users_sorted.index:\n",
    "    data_genre.append(\n",
    "        go.Box(y=games_actual_years[games_actual_years['genre']==genre].user_score, name=genre)\n",
    "    )\n",
    "# визуализируем данные\n",
    "fig = go.Figure(\n",
    "    data=data_genre,\n",
    "    layout=dict(title=dict(text=\"Зависимость пользовательского рейтинга от жанра\"))\n",
    ")\n",
    "\n",
    "fig.show()\n",
    "# plot(data_genre,show_link = False)\n",
    "\n",
    "data_platform = []\n",
    "for platform in games_top_critics_sorted.index:\n",
    "    data_platform.append(\n",
    "        go.Box(y=games_actual_years[games_actual_years['platform']==platform].critic_score, name=platform)\n",
    "    )\n",
    "\n",
    "fig = go.Figure(\n",
    "    data=data_platform,\n",
    "    layout=dict(title=dict(text=\"Зависимость рейтинга критиков от платформы\"))\n",
    ")\n",
    "\n",
    "fig.show()    \n",
    "    \n"
   ]
  },
  {
   "cell_type": "markdown",
   "metadata": {},
   "source": [
    "Вывод\n",
    "---\n",
    "- Медианное значение продаж для разных платформ различается не сильно, наибольшее медианное значение у XBox 360.\n",
    "- Также продажи для всех жанров находятся на одном уровне.\n",
    "- Самое высокое среднее значение у жанров Sports и Shooter.\n",
    "- Стратегии же имеют самый высокий средний рейтинг у пользователей.\n",
    "- Игры на РС выше всего оенивают критики\n",
    "\n",
    "(много блоков до этого менял местами, поэтому вывод про рейтинг появился выше, чем сам анализ)."
   ]
  },
  {
   "cell_type": "markdown",
   "metadata": {},
   "source": [
    "7. Посмотрите, как влияют на продажи внутри одной популярной платформы отзывы пользователей и критиков. Постройте диаграмму рассеяния и посчитайте корреляцию между отзывами и продажами. Сформулируйте выводы.\n"
   ]
  },
  {
   "cell_type": "code",
   "execution_count": null,
   "metadata": {},
   "outputs": [],
   "source": [
    "columns = ['total_sales','critic_score','user_score']\n",
    "# print(games_actual_years.query('platform == \"PS2\"'))\n",
    "sns.pairplot(games_actual_years.query('platform == \"PS2\"')[columns])"
   ]
  },
  {
   "cell_type": "markdown",
   "metadata": {},
   "source": [
    "Вывод\n",
    "---\n",
    "Из графика рассеяния наиболее продаваемой платформы (PS2) можно сделать вывод, что при высокие продажи возможны только при высоком рейтинге критиков и юзеров. Например, игры, суммарные продажи которых составляют 1млн$ и выше, имеют рейтинг выше 60 и 6 соответственно.\n",
    "Само же распредление отзывов критиков и юзеров имеет нормальное распределение, скошенное влево.\n",
    "\n",
    "\n",
    "8. Соотнесите выводы с продажами игр на других платформах.\n",
    "\n"
   ]
  },
  {
   "cell_type": "code",
   "execution_count": null,
   "metadata": {
    "scrolled": true
   },
   "outputs": [],
   "source": [
    "sns.pairplot(games_actual_years.query('platform == \"PC\"')[columns])\n",
    "sns.pairplot(games_actual_years.query('platform == \"X360\"')[columns])"
   ]
  },
  {
   "cell_type": "markdown",
   "metadata": {},
   "source": [
    "Вывод\n",
    "---\n",
    "Для примера взяли платформу PC и Х360\n",
    "На них ситуация идентичная, за разницей в том, что отзывы юзеров более рассеяны, т.к. не профессиональные геймеры являются более субъективными критиками, однако тенденция увеличения продаж при высоком рейтинге сохраняется"
   ]
  },
  {
   "cell_type": "markdown",
   "metadata": {},
   "source": [
    "9. Посмотрите на общее распределение игр по жанрам. Что можно сказать о самых прибыльных жанрах? Выделяются ли жанры с высокими и низкими продажами?"
   ]
  },
  {
   "cell_type": "markdown",
   "metadata": {},
   "source": [
    "Согласно графику боксплот, третий квартиль находится вблизи значения 0.5 миллиона $ и выше  для жанров: 'Platform','Shooter', ' Fighting' и 'Sports'"
   ]
  },
  {
   "cell_type": "markdown",
   "metadata": {},
   "source": []
  },
  {
   "cell_type": "markdown",
   "metadata": {},
   "source": [
    "Категоризация значений. Корреляция\n",
    "---\n",
    "Для каждого объекта определим числовое значение для рейтинга и жанра игры для дальнейшей обработки."
   ]
  },
  {
   "cell_type": "code",
   "execution_count": null,
   "metadata": {},
   "outputs": [],
   "source": [
    "from sklearn.preprocessing import LabelEncoder\n",
    "le = LabelEncoder()\n",
    "le.fit(games_actual_years['genre'])\n",
    "games_actual_years['genre_type'] = le.transform(games_actual_years['genre'])\n",
    "\n"
   ]
  },
  {
   "cell_type": "markdown",
   "metadata": {},
   "source": [
    "## <span style=\"color:green\">Отличная работа<span>\n",
    "Классно, что используешь возможности `sklearn`👌"
   ]
  },
  {
   "cell_type": "code",
   "execution_count": null,
   "metadata": {},
   "outputs": [],
   "source": [
    "# можно было по-другому\n",
    "# словарь жанр: индекс\n",
    "d = {g:idx for idx, g in enumerate(games_actual_years['genre'].unique())}\n",
    "# r = {g:idx for idx, g in enumerate(games['rating_type'].unique())}"
   ]
  },
  {
   "cell_type": "code",
   "execution_count": null,
   "metadata": {},
   "outputs": [],
   "source": [
    "# применяем словарь\n",
    "games_actual_years['genre_type_new'] = games_actual_years['genre'].map(d)\n",
    "# games_actual_years['rating_type'] = games_actual_years['rating'].map(r)\n",
    "print(games_actual_years['genre_type_new'].unique())\n",
    "\n",
    "corr = games_actual_years.corr()\n",
    "ax = sns.heatmap(corr,cmap='coolwarm',annot=True)\n",
    "ax.set(xlabel='Характеристики игр', ylabel='Характеристики игр')\n",
    "ax.set_title('Взаимная корреляция характеристик игр\\n',fontsize=20)\n",
    "plt.show()"
   ]
  },
  {
   "cell_type": "markdown",
   "metadata": {},
   "source": [
    "#### Вывод.\n",
    "1. Наибольший вклад в суммарные продажи вносит Сев.Америка. Продажи практически не зависят от года релиза.\n",
    "2. Наибольшая зависимость от жанра есть у года выпуска и рейтинга.\n",
    "3. Продажи сильнее всего зависят от рейтинга критиков. Также рейтинг критиков довольно сильно коррелирует с рейтингом пользователей."
   ]
  },
  {
   "cell_type": "markdown",
   "metadata": {},
   "source": [
    "# Шаг 4. Составьте портрет пользователя каждого региона\n",
    "Определите для пользователя каждого региона (NA, EU, JP):\n",
    "1.\tСамые популярные платформы (топ-5). Опишите различия в долях продаж.\n",
    "2.\tСамые популярные жанры (топ-5). Поясните разницу.\n",
    "3.\tВлияет ли рейтинг ESRB на продажи в отдельном регионе?\n",
    "\n",
    "#### 1. Построим график плотности распределения продаж игр в актуальный период времени для самых прибыльных платформ по регионам"
   ]
  },
  {
   "cell_type": "code",
   "execution_count": null,
   "metadata": {
    "scrolled": false
   },
   "outputs": [],
   "source": [
    "fig, ax = plt.subplots(figsize = (9,4))\n",
    "\n",
    "\n",
    "ax1 =sns.distplot(games_actual_years.na_sales,label='Продажи в Сев.Америке')\n",
    "ax2=sns.distplot(games_actual_years.jp_sales,label='Продажи в Японии')\n",
    "ax3=sns.distplot(games_actual_years.eu_sales,label='Продажи в Европе')\n",
    "plt.xlim(0,0.4) # ограничим график для наглядности\n",
    "ax.legend()\n",
    "ax.set(title = \"Гистограмма плотности распределения\")\n",
    "\n",
    "fig, ax = plt.subplots(figsize = (9,4))\n",
    "\n",
    "\n",
    "ax.plot(games_actual_years.groupby('year_of_release')['na_sales'].mean(),label='Продажи в Сев.Америке')\n",
    "\n",
    "ax.plot(games_actual_years.groupby('year_of_release')['eu_sales'].mean(),label='Продажи в Японии')\n",
    "ax.plot(games_actual_years.groupby('year_of_release')['jp_sales'].mean(),label='Продажи в Европе')\n",
    "# plt.xlim(0,0.4) # ограничим график для наглядности\n",
    "ax.legend()\n",
    "ax.set(title = \"Средние продажи по регионам\")\n",
    "plt.show()"
   ]
  },
  {
   "cell_type": "markdown",
   "metadata": {},
   "source": [
    "В Европе реализуется больше игр, однако почти все с небольшими продажами. Доля игр с высокими продажами снижается, и игры, которые заработали более 0.05 млн$, чаще покупают в Сев.Америке, чем в Европе.\n",
    "\n",
    "\n",
    "#### 2. Выделим самые популярные жанры"
   ]
  },
  {
   "cell_type": "code",
   "execution_count": null,
   "metadata": {},
   "outputs": [],
   "source": [
    "games_actual_pivot = games_actual_years.groupby('genre')['total_sales'].sum().sort_values(ascending=False).head()   \n",
    "print()\n",
    "print(games_actual_pivot)"
   ]
  },
  {
   "cell_type": "code",
   "execution_count": null,
   "metadata": {},
   "outputs": [],
   "source": [
    "import scipy.stats as st\n",
    "print(games['rating'].unique())\n",
    "sales_pivot =(games_actual_years.pivot_table(index='rating', values='total_sales', aggfunc={'sum','median','count'}))\n",
    "display(sales_pivot)\n",
    "# print(games_actual_years)\n",
    "x = games_actual_years['user_score']\n",
    "y=games_actual_years['critic_score']\n",
    "print(\"Таблица корреляции продаж от жанра:\\nКорреляция Пирсона\",st.pearsonr(x, y))  \n"
   ]
  },
  {
   "cell_type": "markdown",
   "metadata": {},
   "source": [
    "#### Различия регионов для топ-5 платформ, топ-5 жанров, топ-5 рейтинг игр\n"
   ]
  },
  {
   "cell_type": "code",
   "execution_count": null,
   "metadata": {},
   "outputs": [],
   "source": [
    "games_top5_platforms_sorted = games_actual_years.groupby('platform')['total_sales'].median().sort_values(ascending=False).head()\n",
    "games_top5_genre_sorted = games_actual_years.groupby('genre')['total_sales'].median().sort_values(ascending=False).head()\n",
    "games_top5_rating_sorted = games_actual_years.groupby('rating')['total_sales'].median().sort_values(ascending=False).head()\n",
    "top5_platforms = []\n",
    "for i in games_top5_platforms_sorted.index:\n",
    "    top5_platforms = games[games['platform'] == i][[x for x in games.columns if 'sales' in x] + ['year_of_release']]\n",
    "    top5_platforms.groupby('year_of_release').sum().plot(title= 'Продажи по различных континентам на платформе {}'.format(i))\n",
    "    print(i)\n",
    "    plt.xlabel(\"Год выпуска\")\n",
    "    plt.ylabel(\"Суммарная выручка, млн$\")\n",
    "plt.show()"
   ]
  },
  {
   "cell_type": "markdown",
   "metadata": {},
   "source": [
    "__Вывод__\n",
    "Для каждой из топ 5 платформ выделяются пики в определенный промежуток времени. Иногда пиков несколько.\n",
    "Однако, для всех платформ верно то, что наибольшие продажи в Северной Америке"
   ]
  },
  {
   "cell_type": "code",
   "execution_count": null,
   "metadata": {},
   "outputs": [],
   "source": [
    "for i in games_top5_genre_sorted.index:\n",
    "    top5_platforms = games[games['genre'] == i][[x for x in games.columns if 'sales' in x] + ['year_of_release']]\n",
    "    top5_platforms.groupby('year_of_release').sum().plot(title= 'Продажи по различных континентам жанра {}'.format(i))\n",
    "    print(i)\n",
    "    plt.xlabel(\"Год выпуска\")\n",
    "    plt.ylabel(\"Суммарная выручка, млн$\")\n",
    "plt.show()"
   ]
  },
  {
   "cell_type": "code",
   "execution_count": null,
   "metadata": {},
   "outputs": [],
   "source": [
    "for i in games_top5_rating_sorted.index:\n",
    "    top5_platforms = games[games['rating'] == i][[x for x in games.columns if 'sales' in x] + ['year_of_release']]\n",
    "    top5_platforms.groupby('year_of_release').sum().plot(title= 'Продажи по различных континентам игр с рейтингом {}'.format(i))\n",
    "    print(i)\n",
    "    plt.xlabel(\"Год выпуска\")\n",
    "    plt.ylabel(\"Суммарная выручка, млн$\")\n",
    "plt.show()"
   ]
  },
  {
   "cell_type": "markdown",
   "metadata": {},
   "source": [
    "__Вывод__\n",
    "У продаж игр определенного жанра наиболее неравномерный и непредсказуемый график. Причин может быть множество. Вероятно, жанр сейчас становитсяя довольно размытым понятием, игры соответствуют сразу нескольким, а также мода определеяет популярные жанры.\n",
    "Интересно то, почти все игры с рейтингом ЕС выпускались в Северной Америке.\n",
    "\n",
    "Выделяются жанры с самыми высокими продажами : Sports, Shooter и Action"
   ]
  },
  {
   "cell_type": "markdown",
   "metadata": {},
   "source": [
    "### Вывод\n",
    "Самые высокие продажи, как правило, в Северной Америке. Игры рейтингов E, E10+, M и Т популярнее всего во всех странах. \n",
    "Игр с рейтингом AO, EC, RP слишком мало, чтоы учитывать их в анализе рейтингов.\n",
    "Чаще всего выпускают игры с рейтингом Е, но средние продажи этих игр на одном уровне с Е10+ и Т.\n",
    "Игры с рейтингом М имеют самые высокие продажи."
   ]
  },
  {
   "cell_type": "markdown",
   "metadata": {},
   "source": [
    "# 5. Гипотезы\n",
    "\n",
    "#### Гипотеза №1. Средние пользовательские рейтинги платформ Xbox One и PC одинаковые\n",
    "\n",
    "- Нулевая гипотеза Средние пользовательские рейтинги платформ Xbox One и PC одинаковые\n",
    "- Альтернативная гипотеза Средние пользовательские рейтинги платформ Xbox One и PC отличаются"
   ]
  },
  {
   "cell_type": "code",
   "execution_count": null,
   "metadata": {},
   "outputs": [],
   "source": [
    "from scipy import stats as st\n",
    "\n",
    "xbox_games=games.query('platform ==\"XOne\"')['user_score']\n",
    "pc_games = games.query('platform==\"PC\"')['user_score']\n",
    "\n",
    "alpha = 0.05 # критический уровень статистической значимости\n",
    "            # если p-value окажется меньше него - отвергнем гипотезу\n",
    "\n",
    "results = st.ttest_ind(xbox_games, pc_games)\n",
    "\n",
    "print('p-значение:', results.pvalue)\n",
    "\n",
    "if (results.pvalue < alpha):\n",
    "    print(\"Отвергаем нулевую гипотезу\")\n",
    "else:\n",
    "    print(\"Не получилось отвергнуть нулевую гипотезу\")\n",
    "\n"
   ]
  },
  {
   "cell_type": "markdown",
   "metadata": {},
   "source": [
    "Статистическая вероятность того, что генеральные совокупности оценок пользователей двух платформ одинаковы, слишком мала, чтобы принять нулевую гипотезу. Статистическая разница велика."
   ]
  },
  {
   "cell_type": "code",
   "execution_count": null,
   "metadata": {},
   "outputs": [],
   "source": [
    "# производим 1000 выборок и рассчитываем среднее\n",
    "xbox_smp_mean = pd.Series([xbox_games.sample(frac=1, replace=True).mean() for _ in range(1000)])\n",
    "pc_smp_mean = pd.Series([pc_games.sample(frac=1, replace=True).mean() for _ in range(1000)])"
   ]
  },
  {
   "cell_type": "code",
   "execution_count": null,
   "metadata": {},
   "outputs": [],
   "source": [
    "# строим распределения\n",
    "plt.figure(figsize=(8, 8))\n",
    "plt.hist(xbox_smp_mean, bins=31, label='Xbox')\n",
    "plt.hist(pc_smp_mean, bins=31, label='PC')\n",
    "plt.legend()\n",
    "plt.grid()\n",
    "plt.show()"
   ]
  },
  {
   "cell_type": "markdown",
   "metadata": {},
   "source": [
    "Вот о такой разнице говорит статистический тест, хотя абсолютная разница - менее 1 балла"
   ]
  },
  {
   "cell_type": "markdown",
   "metadata": {},
   "source": [
    "#### Гипотеза №2. Средние пользовательские рейтинги жанров Action (англ. «действие», экшен-игры) и Sports (англ. «спортивные соревнования») разные.\n",
    "\n",
    "Нулевая гипотеза - Средние пользовательские рейтинги жанров Action (англ. «действие», экшен-игры) и Sports (англ. «спортивные соревнования») равны.\n",
    "Альтернативная гипотеза - Средние пользовательские рейтинги жанров Action (англ. «действие», экшен-игры) и Sports (англ. «спортивные соревнования») различаются.\n"
   ]
  },
  {
   "cell_type": "code",
   "execution_count": null,
   "metadata": {},
   "outputs": [],
   "source": [
    "action_games=games.query('genre ==\"Action\"')['user_score']\n",
    "sports_games = games.query('genre==\"Sports\"')['user_score']\n",
    "\n",
    "alpha = 0.05 # критический уровень статистической значимости\n",
    "            # если p-value окажется меньше него - отвергнем гипотезу\n",
    "\n",
    "results = st.ttest_ind(action_games, sports_games)\n",
    "\n",
    "print('p-значение:', results.pvalue)\n",
    "\n",
    "if (results.pvalue < alpha):\n",
    "    print(\"Отвергаем нулевую гипотезу\")\n",
    "else:\n",
    "    print(\"Не получилось отвергнуть нулевую гипотезу\")"
   ]
  },
  {
   "cell_type": "code",
   "execution_count": null,
   "metadata": {},
   "outputs": [],
   "source": [
    "# производим 1000 выборок и рассчитываем среднее\n",
    "action_smp_mean = pd.Series([action_games.sample(frac=1, replace=True).mean() for _ in range(1000)])\n",
    "sports_smp_mean = pd.Series([sports_games.sample(frac=1, replace=True).mean() for _ in range(1000)])\n",
    "# строим распределения\n",
    "plt.figure(figsize=(8, 8))\n",
    "plt.hist(action_smp_mean, bins=31, label='Action')\n",
    "plt.hist(sports_smp_mean, bins=31, label='Sports')\n",
    "plt.legend()\n",
    "plt.grid()\n",
    "plt.show()"
   ]
  },
  {
   "cell_type": "markdown",
   "metadata": {},
   "source": [
    "### Вывод\n",
    "Хоть в рейтинге этих жанров есть различия, статистически имеется слишком большая вероятность, чтобы делать вывод о значимом различии между средними рейтингами двух жанров.\n",
    "\n",
    "\n",
    "Для проверки гипотез был принят критический уровень статистической значимости равный 0.05, который определяет статистические различия двух генеральных совокупностей. В случае, если статистика разности меньше альфа, т.е. статистическая вероятность того ,что значение одной генеральной совокупности находится в доверительном интервале другой генеральной совокупности, высока ,чтобы отвергнуть гипотезу о равенстве ,и наоборот.\n",
    "\n",
    "В итоге, не получилось отвергнуть гипотезу о равенстве пользовательских рейтингов двух жанров Action и Sports. Статистическая значимость различий достаточно мала."
   ]
  },
  {
   "cell_type": "markdown",
   "metadata": {},
   "source": [
    "# Общий вывод\n",
    "\n",
    "1. До 2001 года индустрия игр была развита не сильно, и игры выпускались в малых количествах. После 2001 года пошел рост количества, который достиг пика в 2007-2010 годах. Это ,вероятно ,связано с тем, что персональный компьютер и приставки стали доступнее и появились у большинства пользователей. После этих годов происходит уменьшение количества игр. Возможно, количество игр постепенно переходит в качество.\n",
    "\n",
    "2. Самыми прибыльными платформами оказались:\n",
    " - PS2        1255.77  млн;\n",
    " - X360         971.42 млн;        \n",
    " - PS3          939.65  млн;      \n",
    " - Wii         907.51   млн;      \n",
    " - DS           806.12   млн; \n",
    " - Средний срок существования 5 самых прибыльных платформ 11.8 лет.\n",
    "\n",
    "3. Медианное значение продаж для разных платформ различается не сильно, однако GameBox сильно выбивается в сторону больших продаж.Также медианный рейтинг критиков для всех видов платформ не сильно отличается друг от друга. Вероятно, рейтинг и продажи больше зависят от игры и года.\n",
    "\n",
    "4. В Европе реализуется больше игр, однако почти все с небольшими продажами. Доля игр с высокими продажами ниже, и игры, которые заработали более 0.05 млн, чаще покупают в Сев.Америке, чем в Европе. Япония обеспечивает также неплохие продажи, и даже сравнима с Европой на уровне 0.03млн, однако население Японии ниже, чем в других регионах, поэтому соревноваться в численных значениях продаж сложно.\n",
    "\n",
    "5. Самые высокие продажи, как правило, в Северной Америке. Игры рейтингов E, E10+, M и Т популярнее всего во всех странах.\n",
    "\n",
    "6. Были проверены две гипотезы:\n",
    "\n",
    "    - Средние пользовательские рейтинги платформ Xbox One и PC одинаковые. Данная гипотеза не подтвердилась. Рейтинги значительно отличаются\n",
    "    - Средние пользовательские рейтинги жанров Action (англ. «действие», экшен-игры) и Sports (англ. «спортивные соревнования») разные. Данная гипотеза также не подтвердилась - рейтинги этих жанров статистически отличаются не сильно.\n",
    "\n",
    "7. Оценки критиков и юзеров значительно влияют на продажи. Имеется прямая зависимость, однако оценки юзеров более рассеяны, так как они ,вероятно, более субъективны, и плохо продаваемая игра может понравиться части юзеров, а также оценка юзеров, в отличии от критиков, менее способна повлиять на продажи, так как не всегда предаётся общественной огласке.\n",
    "\n",
    "8. Перспективная платформа.\n",
    "В 2009 -2011 гг. были пики продаж платформ GB, GBA, PS3. Затем продажи начали падать, на 2013 год наиболее продаваемыми остались PS3,PS4, GBA, 3DS.  У PS4 заметен наиболее резкий рост продаж с момента запуска. Резкий спад , вероятно, обусловлен неполной статистикой за 2016 год. Так что, отдадим первенство в номинации \"перспективная платформа\" именно ей.\n",
    "\n",
    "# Рекомендации компании \"Стримчик\"\n",
    "\n",
    "1. Самый большой потенциал - у платформы PS4. Стоит вложить деньги в игры на этой платформе, т.к. она выделяется на фоне других наиболее ярко в последнее время. в 2017 году её определенно ждет успех. Лучший регион для реализации таких игр - Северная Америка. Она приносит наибольшую выручку. Лучший жанр для игры -Спорт или Шутер.\n",
    "2. Не стоит забывать про XBox. Также самые высокие продажи по всего миру у XBox360. XOne является перспективной на 2017 год. Стоит продавать также игры на этой платформе, но в меньшем количестве. Игры на PC, в свою очередь, лидируют в рейтингах критиков ,которые напрямую влияют на продажи. Так что не забываем и про эту платформу.\n",
    "3. Лучший жанр для игр - М, так как такие игры покупают в среднем чаще, и они приносят больше денег. Игр с рейтингом Е выпускают много, на них также всегда есть спрос, так как они подходят для всех."
   ]
  }
 ],
 "metadata": {
  "kernelspec": {
   "display_name": "Python 3",
   "language": "python",
   "name": "python3"
  },
  "language_info": {
   "codemirror_mode": {
    "name": "ipython",
    "version": 3
   },
   "file_extension": ".py",
   "mimetype": "text/x-python",
   "name": "python",
   "nbconvert_exporter": "python",
   "pygments_lexer": "ipython3",
   "version": "3.8.5"
  }
 },
 "nbformat": 4,
 "nbformat_minor": 2
}
