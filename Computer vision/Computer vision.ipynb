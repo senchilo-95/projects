{
 "cells": [
  {
   "cell_type": "markdown",
   "metadata": {},
   "source": [
    "## Задача\n",
    "\n",
    "Сетевой супермаркет внедряет систему компьютерного зрения для обработки фотографий покупателей. Фотофиксация в прикассовой зоне поможет определять возраст клиентов, чтобы:\n",
    "- Анализировать покупки и предлагать товары, которые могут заинтересовать покупателей этой возрастной группы;\n",
    "- Контролировать добросовестность кассиров при продаже алкоголя.\n",
    "\n",
    "Постройте модель, которая по фотографии определит приблизительный возраст человека. В вашем распоряжении набор фотографий людей с указанием возраста."
   ]
  },
  {
   "cell_type": "markdown",
   "metadata": {},
   "source": [
    "# 1. Исследовательский анализ данных"
   ]
  },
  {
   "cell_type": "code",
   "execution_count": 1,
   "metadata": {},
   "outputs": [],
   "source": [
    "from tensorflow.keras.preprocessing.image import ImageDataGenerator \n",
    "import matplotlib.pyplot as plt\n",
    "import pandas as pd\n",
    "import seaborn as sns"
   ]
  },
  {
   "cell_type": "code",
   "execution_count": 2,
   "metadata": {},
   "outputs": [
    {
     "data": {
      "image/png": "[encoded data removed]",
      "text/plain": [
       "<Figure size 432x288 with 1 Axes>"
      ]
     },
     "metadata": {
      "needs_background": "light"
     },
     "output_type": "display_data"
    }
   ],
   "source": [
    "labels = pd.read_csv('/datasets/faces/labels.csv')\n",
    "sns.distplot(labels['real_age'], bins=50)\n",
    "plt.title('Распределение возрастов')\n",
    "plt.xlabel('Возраст')\n",
    "plt.ylabel('Частота')\n",
    "plt.show()"
   ]
  },
  {
   "cell_type": "code",
   "execution_count": 3,
   "metadata": {},
   "outputs": [
    {
     "name": "stdout",
     "output_type": "stream",
     "text": [
      "count    7591.000000\n",
      "mean       31.201159\n",
      "std        17.145060\n",
      "min         1.000000\n",
      "25%        20.000000\n",
      "50%        29.000000\n",
      "75%        41.000000\n",
      "max       100.000000\n",
      "Name: real_age, dtype: float64\n"
     ]
    },
    {
     "data": {
      "image/png": "[encoded data removed]",
      "text/plain": [
       "<Figure size 432x288 with 1 Axes>"
      ]
     },
     "metadata": {
      "needs_background": "light"
     },
     "output_type": "display_data"
    }
   ],
   "source": [
    "print(labels.real_age.describe())\n",
    "plt.title('Распределение возрастов')\n",
    "sns.boxplot(labels.real_age)\n",
    "plt.show()"
   ]
  },
  {
   "cell_type": "code",
   "execution_count": null,
   "metadata": {},
   "outputs": [],
   "source": [
    "train_datagen = ImageDataGenerator(rescale=1./255)\n",
    "train_datagen_flow = train_datagen.flow_from_dataframe(\n",
    "        dataframe=labels,\n",
    "        directory='/datasets/faces/final_files/',\n",
    "        x_col='file_name',\n",
    "        y_col='real_age',\n",
    "        target_size=(224, 224),\n",
    "        batch_size=32,\n",
    "        class_mode='raw',\n",
    "        seed=12345) \n",
    "\n",
    "features, target = next(train_datagen_flow)\n",
    "\n",
    "# выводим 16 изображений\n",
    "fig = plt.figure(figsize=(20,20))\n",
    "for i in range(12):\n",
    "    fig.add_subplot(10, 10, i+1)\n",
    "    plt.imshow(features[i])\n",
    "    plt.figsize\n",
    "    plt.title(target[i])\n",
    "    # для компактности удаляем оси и прижимаем изображения друг к другу\n",
    "    plt.xticks([])\n",
    "    plt.yticks([])\n",
    "    plt.tight_layout()"
   ]
  },
  {
   "cell_type": "markdown",
   "metadata": {},
   "source": [
    "# 2. Обучение модели"
   ]
  },
  {
   "cell_type": "markdown",
   "metadata": {},
   "source": [
    "Перенесите сюда код обучения модели и её результат вывода на экран.\n",
    "\n",
    "\n",
    "(Код в этом разделе запускается в отдельном GPU-тренажёре, поэтому оформлен не как ячейка с кодом, а как код в текстовой ячейке)"
   ]
  },
  {
   "cell_type": "markdown",
   "metadata": {},
   "source": [
    "```python\n",
    "\n",
    "from tensorflow.keras.preprocessing.image import ImageDataGenerator\n",
    "import matplotlib.pyplot as plt\n",
    "import pandas as pd\n",
    "from tensorflow.keras import Sequential\n",
    "from tensorflow.keras.layers import Dense, GlobalAveragePooling2D\n",
    "from tensorflow.keras.optimizers import Adam\n",
    "from tensorflow.keras.preprocessing.image import ImageDataGenerator\n",
    "from tensorflow.keras.applications.resnet import ResNet50\n",
    "\n",
    "\n",
    "\n",
    "def load_train(path):\n",
    "    labels = pd.read_csv(path + 'labels.csv')\n",
    "    directory = path + 'final_files/'\n",
    "    train_datagen = ImageDataGenerator(rescale=1./255,\n",
    "                                       validation_split=0.25\n",
    "                                       )\n",
    "    train_datagen_flow = train_datagen.flow_from_dataframe(\n",
    "            dataframe=labels,\n",
    "            directory=directory,\n",
    "            x_col='file_name',\n",
    "            y_col='real_age',\n",
    "            target_size=(224, 224),\n",
    "            batch_size=32,\n",
    "            subset='training',\n",
    "            class_mode='raw',\n",
    "            seed=12345)\n",
    "    return train_datagen_flow\n",
    "\n",
    "def load_test(path):\n",
    "    labels = pd.read_csv(path + 'labels.csv')\n",
    "    directory = path + 'final_files/'\n",
    "    test_datagen = ImageDataGenerator(rescale=1./255, validation_split=0.25)\n",
    "    val_datagen_flow = test_datagen.flow_from_dataframe(\n",
    "            dataframe=labels,\n",
    "            directory=directory,\n",
    "            x_col='file_name',\n",
    "            y_col='real_age',\n",
    "            target_size=(224, 224),\n",
    "            batch_size=32,\n",
    "            subset='validation',\n",
    "            class_mode='raw',\n",
    "            seed=12345)\n",
    "    return val_datagen_flow\n",
    "\n",
    "\n",
    "def create_model(input_shape):\n",
    "    model = Sequential()\n",
    "    backbone = ResNet50(input_shape=input_shape,\n",
    "                        weights='imagenet',\n",
    "                        include_top=False)\n",
    "    model.add(backbone)\n",
    "    model.add(GlobalAveragePooling2D())\n",
    "    model.add(Dense(units=1, activation='relu'))\n",
    "\n",
    "    optimizer = Adam(lr=0.0005)\n",
    "    model.compile(loss='mse', optimizer=optimizer, metrics=['mae'])\n",
    "    return model\n",
    "\n",
    "\n",
    "def train_model(model, train_data, test_data, batch_size=None, epochs=20,\n",
    "                steps_per_epoch=None, validation_steps=None):\n",
    "    if steps_per_epoch is None:\n",
    "        steps_per_epoch = len(train_data)\n",
    "    if validation_steps is None:\n",
    "        validation_steps = len(test_data)\n",
    "\n",
    "    model.fit(train_data, validation_data=test_data, batch_size=batch_size,\n",
    "              steps_per_epoch=steps_per_epoch, validation_steps=validation_steps,\n",
    "              verbose=2, epochs=epochs)\n",
    "    return model\n",
    "\n",
    "\n",
    "```"
   ]
  },
  {
   "cell_type": "markdown",
   "metadata": {},
   "source": [
    "```\n",
    "\n",
    "Train for 178 steps, validate for 60 steps\n",
    "Epoch 1/20\n",
    "2020-12-04 17:20:07.365476: I tensorflow/stream_executor/platform/default/dso_loader.cc:44] Successfully opened dynamic library libcublas.so.10\n",
    "2020-12-04 17:20:07.777148: I tensorflow/stream_executor/platform/default/dso_loader.cc:44] Successfully opened dynamic library libcudnn.so.7\n",
    "178/178 - 50s - loss: 197.7354 - mae: 10.3814 - val_loss: 615.7268 - val_mae: 19.8197\n",
    "Epoch 2/20\n",
    "178/178 - 40s - loss: 102.5994 - mae: 7.7053 - val_loss: 501.1697 - val_mae: 17.3094\n",
    "Epoch 3/20\n",
    "178/178 - 41s - loss: 62.5317 - mae: 6.0303 - val_loss: 467.5311 - val_mae: 16.4987\n",
    "Epoch 4/20\n",
    "178/178 - 40s - loss: 39.5569 - mae: 4.8530 - val_loss: 164.1401 - val_mae: 9.6752\n",
    "Epoch 5/20\n",
    "178/178 - 40s - loss: 27.1469 - mae: 4.0272 - val_loss: 147.9693 - val_mae: 9.3289\n",
    "Epoch 6/20\n",
    "178/178 - 40s - loss: 21.4569 - mae: 3.6028 - val_loss: 81.7385 - val_mae: 6.7854\n",
    "Epoch 7/20\n",
    "178/178 - 40s - loss: 16.9202 - mae: 3.1308 - val_loss: 90.0847 - val_mae: 7.3563\n",
    "Epoch 8/20\n",
    "178/178 - 40s - loss: 13.4380 - mae: 2.8147 - val_loss: 81.5071 - val_mae: 6.7830\n",
    "Epoch 9/20\n",
    "178/178 - 40s - loss: 12.0018 - mae: 2.6354 - val_loss: 81.4309 - val_mae: 6.8822\n",
    "Epoch 10/20\n",
    "178/178 - 40s - loss: 10.8122 - mae: 2.5104 - val_loss: 76.1718 - val_mae: 6.5813\n",
    "Epoch 11/20\n",
    "178/178 - 40s - loss: 10.0951 - mae: 2.4236 - val_loss: 90.3103 - val_mae: 7.3273\n",
    "Epoch 12/20\n",
    "178/178 - 40s - loss: 9.1135 - mae: 2.2998 - val_loss: 79.7821 - val_mae: 6.7988\n",
    "Epoch 13/20\n",
    "178/178 - 40s - loss: 8.3249 - mae: 2.2029 - val_loss: 72.7964 - val_mae: 6.4196\n",
    "Epoch 14/20\n",
    "178/178 - 40s - loss: 8.0377 - mae: 2.1606 - val_loss: 90.7658 - val_mae: 7.3588\n",
    "Epoch 15/20\n",
    "178/178 - 40s - loss: 8.5414 - mae: 2.2079 - val_loss: 83.0194 - val_mae: 6.7480\n",
    "Epoch 16/20\n",
    "178/178 - 40s - loss: 8.4480 - mae: 2.1924 - val_loss: 84.1616 - val_mae: 7.0156\n",
    "Epoch 17/20\n",
    "178/178 - 40s - loss: 8.6072 - mae: 2.2504 - val_loss: 78.2339 - val_mae: 6.6398\n",
    "Epoch 18/20\n",
    "178/178 - 40s - loss: 8.6166 - mae: 2.2459 - val_loss: 102.3626 - val_mae: 7.2808\n",
    "Epoch 19/20\n",
    "178/178 - 40s - loss: 9.2214 - mae: 2.2896 - val_loss: 88.3615 - val_mae: 7.3746\n",
    "Epoch 20/20\n",
    "178/178 - 40s - loss: 10.5019 - mae: 2.4843 - val_loss: 84.6153 - val_mae: 6.7207\n",
    "\n",
    "```"
   ]
  },
  {
   "cell_type": "markdown",
   "metadata": {},
   "source": [
    "# 3. Анализ обученной модели"
   ]
  },
  {
   "cell_type": "markdown",
   "metadata": {},
   "source": [
    "1. В наборе данных мы имеем данные о возрастах людей и фотографии с их лицами. Распределение возрастов нормальное, скошенное вправо (положительно асимметричное). Показанное на графике положительно скошенное распределение имеет длинный хвост с правой стороны."
   ]
  },
  {
   "cell_type": "markdown",
   "metadata": {},
   "source": [
    "Коэффициент асимметрии распределения"
   ]
  },
  {
   "cell_type": "code",
   "execution_count": 17,
   "metadata": {},
   "outputs": [
    {
     "name": "stdout",
     "output_type": "stream",
     "text": [
      "real_age    0.729609\n",
      "dtype: float64\n"
     ]
    }
   ],
   "source": [
    "print(labels.skew())"
   ]
  },
  {
   "cell_type": "markdown",
   "metadata": {},
   "source": [
    "Интегральные (кумулятивные) функции распределения"
   ]
  },
  {
   "cell_type": "code",
   "execution_count": 16,
   "metadata": {},
   "outputs": [
    {
     "name": "stderr",
     "output_type": "stream",
     "text": [
      "/opt/conda/lib/python3.7/site-packages/ipykernel_launcher.py:7: DeprecationWarning: scipy.arange is deprecated and will be removed in SciPy 2.0.0, use numpy.arange instead\n",
      "  import sys\n"
     ]
    },
    {
     "data": {
      "image/png": "[encoded data removed]",
      "text/plain": [
       "<Figure size 432x288 with 1 Axes>"
      ]
     },
     "metadata": {
      "needs_background": "light"
     },
     "output_type": "display_data"
    }
   ],
   "source": [
    "from scipy import stats\n",
    "import scipy as sp\n",
    "\n",
    "def empirical_cdf(x):\n",
    "    \"\"\"Вернуть эмпирическую функцию распределения для x\"\"\"\n",
    "    sx  = sorted(x)\n",
    "    return pd.DataFrame( {0: sx, 1:sp.arange(len(sx))/len(sx)} )\n",
    "\n",
    "emp      = labels.real_age\n",
    "fitted   = stats.norm.rvs(emp.mean(), emp.std(ddof=0), len(emp))\n",
    "df  = empirical_cdf(emp)\n",
    "df2 = empirical_cdf(fitted)\n",
    "ax  = df.plot(0, 1, label='эмпирическая')    \n",
    "df2.plot(0, 1, label='подогнанная', grid=True, ax=ax)    \n",
    "plt.xlabel('Возраст')\n",
    "plt.ylabel('Вероятность')\n",
    "plt.legend(loc='best')             \n",
    "plt.show()   "
   ]
  },
  {
   "cell_type": "markdown",
   "metadata": {},
   "source": [
    "__Вывод__ : исходя из коэффициента ассиметрии (Ка > 0.5) можно сделать вывод, что ассиметрия значительна и в выборке представлено больше людей молодого возраста, о чем мы можем судить из графика распределения возрастов (п.1)."
   ]
  },
  {
   "cell_type": "markdown",
   "metadata": {},
   "source": [
    "__2. Модель.\n",
    "Для обучения и валидации модели мы поделили исходную выборку в пропорциях 3:1.__\n",
    "\n",
    "Для обучения модели была использована структура нейронной сети ResNet50 с предобученными весами на датасете 'imagenet'.\n",
    "Для обработки данных, полученных из модели  Resnet применен слой GlobalAveragePooling2D.\n",
    "Выходным слоем является полносвязный слой с одним нейроном и функцией активации 'relu'.\n",
    "\n",
    "Из полученных результатов обучения модели можно сделать вывод, что модель достигла требуемой точности уже на 6 эпохе, а дальше стала переобучаться.\n",
    "Однако функция потерь продолжила уменьшаться ,что говорит о том, что на 6 эпохе веса были подобраны не оптимально.\n",
    "Так как шаг градиента был взят достаточно малым, на 20 эпохе мы получили примерно то же значение MAE для тестовой выборки ,что и на 6ой, однако значение функции потерь уменьшилось в 2 раза."
   ]
  },
  {
   "cell_type": "markdown",
   "metadata": {},
   "source": [
    "## Вывод\n",
    "\n",
    "Для выполнения первой поставленной задачи - Анализировать покупки и предлагать товары, которые могут заинтересовать покупателей этой возрастной группы - созданная нейронная сеть подходит, так как средняя ошибка в 6,7 лет довольно мала, если судить о предпочтениях в покупках.\n",
    "\n",
    "Для проверки соотсветствия возраста для продажи алкоголя данный алгоритм может быть недостаточно точным. Однако можно проверять документы у всех людей по верхней границе ошибки, т.е. до 25 лет включительно, однако это может быть только дополнительным фактором для проверки."
   ]
  }
 ],
 "metadata": {
  "kernelspec": {
   "display_name": "Python 3",
   "language": "python",
   "name": "python3"
  },
  "language_info": {
   "codemirror_mode": {
    "name": "ipython",
    "version": 3
   },
   "file_extension": ".py",
   "mimetype": "text/x-python",
   "name": "python",
   "nbconvert_exporter": "python",
   "pygments_lexer": "ipython3",
   "version": "3.8.5"
  },
  "toc": {
   "base_numbering": 1,
   "nav_menu": {},
   "number_sections": true,
   "sideBar": true,
   "skip_h1_title": true,
   "title_cell": "Table of Contents",
   "title_sidebar": "Contents",
   "toc_cell": false,
   "toc_position": {},
   "toc_section_display": true,
   "toc_window_display": false
  }
 },
 "nbformat": 4,
 "nbformat_minor": 2
}
