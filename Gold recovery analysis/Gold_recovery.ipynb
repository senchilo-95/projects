{
 "cells": [
  {
   "cell_type": "markdown",
   "metadata": {},
   "source": [
    "# Описание проекта\n",
    "\n",
    "Подготовьте прототип модели машинного обучения для «Цифры». Компания разрабатывает решения для эффективной работы промышленных предприятий.\n",
    "\n",
    "Модель должна предсказать коэффициент восстановления золота из золотосодержащей руды. В вашем распоряжении данные с параметрами добычи и очистки. \n",
    "\n",
    "Модель поможет оптимизировать производство, чтобы не запускать предприятие с убыточными характеристиками.\n",
    "\n",
    "Вам нужно:\n",
    "\n",
    "1. Подготовить данные;\n",
    "2. Провести исследовательский анализ данных;\n",
    "3. Построить и обучить модель.\n",
    "\n",
    "Чтобы выполнить проект, обращайтесь к библиотекам *pandas*, *matplotlib* и *sklearn.* Вам поможет их документация."
   ]
  },
  {
   "cell_type": "code",
   "execution_count": 1,
   "metadata": {},
   "outputs": [],
   "source": [
    "import pandas as pd\n",
    "import numpy as np\n",
    "import matplotlib.pyplot as plt\n",
    "import seaborn as sns\n",
    "from sklearn.ensemble import RandomForestRegressor\n",
    "from sklearn.metrics import mean_absolute_error\n",
    "import matplotlib.ticker as ticker\n",
    "from sklearn.linear_model import LinearRegression\n",
    "from sklearn.linear_model import Ridge\n",
    "\n",
    "from sklearn.model_selection import train_test_split\n",
    "from sklearn.ensemble import RandomForestRegressor\n",
    "from sklearn.model_selection import GridSearchCV\n",
    "from sklearn.neighbors import KNeighborsRegressor\n",
    "from sklearn.model_selection import cross_val_score\n",
    "from sklearn.linear_model import SGDRegressor\n",
    "from sklearn.pipeline import make_pipeline\n",
    "from sklearn.preprocessing import StandardScaler\n",
    "from sklearn.linear_model import RidgeCV\n",
    "from sklearn.metrics import make_scorer\n",
    "from sklearn.model_selection import cross_val_predict\n",
    "from sklearn.model_selection import GridSearchCV"
   ]
  },
  {
   "cell_type": "markdown",
   "metadata": {},
   "source": [
    "# 1. Подготовка данных"
   ]
  },
  {
   "cell_type": "markdown",
   "metadata": {},
   "source": [
    "### 1.0 Загрузка и предварительный анализ данных"
   ]
  },
  {
   "cell_type": "code",
   "execution_count": 2,
   "metadata": {},
   "outputs": [
    {
     "name": "stdout",
     "output_type": "stream",
     "text": [
      "Размеры полной, тренировочной и тестовой выборок:\n",
      "(22716, 87) (16860, 87) (5856, 53)\n"
     ]
    },
    {
     "data": {
      "text/plain": [
       "0                           final.output.concentrate_au\n",
       "1                                  final.output.tail_au\n",
       "2                 primary_cleaner.output.concentrate_au\n",
       "3                        primary_cleaner.output.tail_au\n",
       "4         rougher.calculation.sulfate_to_au_concentrate\n",
       "5     rougher.calculation.floatbank10_sulfate_to_au_...\n",
       "6     rougher.calculation.floatbank11_sulfate_to_au_...\n",
       "7                       rougher.calculation.au_pb_ratio\n",
       "8                                 rougher.input.feed_au\n",
       "9                         rougher.output.concentrate_au\n",
       "10                               rougher.output.tail_au\n",
       "11                     secondary_cleaner.output.tail_au\n",
       "dtype: object"
      ]
     },
     "metadata": {},
     "output_type": "display_data"
    },
    {
     "name": "stdout",
     "output_type": "stream",
     "text": [
      "0    2016-01-15 00:00:00\n",
      "1    2016-01-15 01:00:00\n",
      "2    2016-01-15 02:00:00\n",
      "3    2016-01-15 03:00:00\n",
      "4    2016-01-15 04:00:00\n",
      "Name: date, dtype: object\n"
     ]
    }
   ],
   "source": [
    "gold_train = pd.read_csv('/datasets/gold_recovery_train.csv')\n",
    "gold_test = pd.read_csv('/datasets/gold_recovery_test.csv')\n",
    "gold = pd.read_csv('/datasets/gold_recovery_full.csv')\n",
    "print('Размеры полной, тренировочной и тестовой выборок:')\n",
    "print(gold.shape,gold_train.shape,gold_test.shape)\n",
    "display(pd.Series(gold_train.columns[gold_train.columns.str.contains('au')]))\n",
    "print(gold['date'].head())"
   ]
  },
  {
   "cell_type": "markdown",
   "metadata": {},
   "source": [
    "Определим различающиеся столбцы в тренировочной и тестовой выборках и выведем их на экран"
   ]
  },
  {
   "cell_type": "code",
   "execution_count": 3,
   "metadata": {},
   "outputs": [
    {
     "name": "stdout",
     "output_type": "stream",
     "text": [
      "0                               rougher.output.recovery\n",
      "1                                 final.output.tail_sol\n",
      "2                         rougher.output.concentrate_pb\n",
      "3                                rougher.output.tail_ag\n",
      "4                        primary_cleaner.output.tail_au\n",
      "5                         rougher.output.concentrate_au\n",
      "6                      secondary_cleaner.output.tail_pb\n",
      "7                 primary_cleaner.output.concentrate_ag\n",
      "8                 primary_cleaner.output.concentrate_au\n",
      "9                                 final.output.recovery\n",
      "10                               rougher.output.tail_au\n",
      "11                          final.output.concentrate_au\n",
      "12                                 final.output.tail_ag\n",
      "13                    secondary_cleaner.output.tail_sol\n",
      "14    rougher.calculation.floatbank10_sulfate_to_au_...\n",
      "15                        rougher.output.concentrate_ag\n",
      "16               primary_cleaner.output.concentrate_sol\n",
      "17                       primary_cleaner.output.tail_pb\n",
      "18                          final.output.concentrate_pb\n",
      "19                       primary_cleaner.output.tail_ag\n",
      "20                primary_cleaner.output.concentrate_pb\n",
      "21                     secondary_cleaner.output.tail_au\n",
      "22                               rougher.output.tail_pb\n",
      "23                                 final.output.tail_au\n",
      "24                          final.output.concentrate_ag\n",
      "25    rougher.calculation.floatbank11_sulfate_to_au_...\n",
      "26                         final.output.concentrate_sol\n",
      "27                              rougher.output.tail_sol\n",
      "28                       rougher.output.concentrate_sol\n",
      "29        rougher.calculation.sulfate_to_au_concentrate\n",
      "30                     secondary_cleaner.output.tail_ag\n",
      "31                                 final.output.tail_pb\n",
      "32                      primary_cleaner.output.tail_sol\n",
      "33                      rougher.calculation.au_pb_ratio\n",
      "dtype: object\n"
     ]
    }
   ],
   "source": [
    "result=list(set(gold_train.columns) ^ set(gold_test.columns))\n",
    "print(pd.Series(result))"
   ]
  },
  {
   "cell_type": "markdown",
   "metadata": {},
   "source": [
    "__Вывод__ В тестовых данных отсутствует значение целевого признака rougher.output.recovery, которое нам и надо найти.\n",
    "\n",
    "Все признаки, недоступные в тестовой выборке, относятся к выходным данным каждого этапа процесса.\n",
    "\n",
    "### 1.1 Предобработка данных\n",
    "__Удаление пропусков__\n",
    "Найдем пропущенные значения в целевом прзнаке тренировочных данных для последующего обучения модели."
   ]
  },
  {
   "cell_type": "code",
   "execution_count": 4,
   "metadata": {},
   "outputs": [
    {
     "name": "stdout",
     "output_type": "stream",
     "text": [
      "Процент пропущенных значений в массиве:\n",
      "всех данных: 13.73%\n",
      "тренировочных данных: 15.26%\n"
     ]
    }
   ],
   "source": [
    "print('Процент пропущенных значений в массиве:')\n",
    "print('всех данных: {:.2%}'.format(gold['rougher.output.recovery'].isna().sum()/gold.shape[0]))\n",
    "print('тренировочных данных: {:.2%}'.format(gold_train['rougher.output.recovery'].isna().sum()/gold_train.shape[0]))"
   ]
  },
  {
   "cell_type": "markdown",
   "metadata": {},
   "source": [
    "__Определим пропущенные и нулевые значения в других столбцах для дальнейших расчетов__\n"
   ]
  },
  {
   "cell_type": "code",
   "execution_count": 5,
   "metadata": {},
   "outputs": [
    {
     "data": {
      "image/png": "[encoded data removed]",
      "text/plain": [
       "<Figure size 432x288 with 1 Axes>"
      ]
     },
     "metadata": {
      "needs_background": "light"
     },
     "output_type": "display_data"
    },
    {
     "name": "stdout",
     "output_type": "stream",
     "text": [
      "Количество пропущенных значений в целевом столбце для образцов с нулевой начальноц концентрацией золота\n",
      "для финальной очистки 1528\n",
      "для флотации 1528\n"
     ]
    },
    {
     "data": {
      "image/png": "[encoded data removed]",
      "text/plain": [
       "<Figure size 432x288 with 1 Axes>"
      ]
     },
     "metadata": {
      "needs_background": "light"
     },
     "output_type": "display_data"
    }
   ],
   "source": [
    "calculated_columns = gold.columns[gold.columns.str.contains('au')]\n",
    "gold['rougher.input.feed_au'].hist(bins=50)\n",
    "plt.title('Входная концентрация золота при флотации')\n",
    "plt.show()\n",
    "gold[gold['rougher.input.feed_au'] == 0]['rougher.output.concentrate_au'].hist(bins=50,alpha=0.5,label='после флотации')\n",
    "gold[gold['rougher.input.feed_au'] == 0]['final.output.concentrate_au'].hist(bins=50,alpha=0.5, label='после финальной очистки')\n",
    "print('Количество пропущенных значений в целевом столбце для образцов с нулевой начальноц концентрацией золота\\nдля финальной очистки',gold[gold['rougher.input.feed_au'] == 0]['final.output.recovery'].isna().sum())\n",
    "print('для флотации',gold[gold['rougher.input.feed_au'] == 0]['rougher.output.recovery'].isna().sum())\n",
    "plt.title('Концентрация золота после очистки для образцов с нулевой начальной концентрацией')\n",
    "plt.legend()\n",
    "plt.show()"
   ]
  },
  {
   "cell_type": "markdown",
   "metadata": {},
   "source": [
    "Из графиков выше можно сделать вывод о том, что при нулевых начальных значений концентрации золота в образце, дальнейшие концентрации также равны нулю ,а целевые признаки отсутствуют. Поэтому избавимся от нулевых значений."
   ]
  },
  {
   "cell_type": "code",
   "execution_count": 6,
   "metadata": {},
   "outputs": [
    {
     "name": "stdout",
     "output_type": "stream",
     "text": [
      "\n",
      "Нулевые значения в столбцах\n",
      " final.output.concentrate_au                            291\n",
      "final.output.tail_au                                   646\n",
      "primary_cleaner.output.concentrate_au                  235\n",
      "primary_cleaner.output.tail_au                         583\n",
      "rougher.calculation.sulfate_to_au_concentrate            0\n",
      "rougher.calculation.floatbank10_sulfate_to_au_feed       0\n",
      "rougher.calculation.floatbank11_sulfate_to_au_feed       0\n",
      "rougher.calculation.au_pb_ratio                          0\n",
      "rougher.input.feed_au                                    0\n",
      "rougher.output.concentrate_au                          490\n",
      "rougher.output.tail_au                                   0\n",
      "secondary_cleaner.output.tail_au                      1379\n",
      "dtype: int64\n"
     ]
    }
   ],
   "source": [
    "# удаляем нули в столбце доля золота в сырье/концентрате до флотации/очистки;\n",
    "gold=gold[gold['rougher.input.feed_au'].values!=0]\n",
    "\n",
    "print('\\nНулевые значения в столбцах\\n',gold[gold[calculated_columns]==0][calculated_columns].count())"
   ]
  },
  {
   "cell_type": "markdown",
   "metadata": {},
   "source": [
    "Теперь больше всего пропущенных значений из целевых признаков в столбце rougher.output.tail_au.\n",
    "Проведем анализ."
   ]
  },
  {
   "cell_type": "markdown",
   "metadata": {},
   "source": [
    "__Вывод__\n",
    "\n",
    "NaN значение в концентрациях золота в отвальных хвостах после флотации, также чаще всего получается, когда на выходе после флотации у нас нулевая концентрация.\n",
    "В итоге, пропуски в целевых столбцах с содержанием золота, могут испортить обучение модели, \n"
   ]
  },
  {
   "cell_type": "code",
   "execution_count": 7,
   "metadata": {},
   "outputs": [
    {
     "name": "stdout",
     "output_type": "stream",
     "text": [
      "Пропущенные данные в столбцах, кол-во:\n",
      " rougher.output.recovery    1591\n",
      "final.output.recovery       435\n",
      "dtype: int64\n"
     ]
    }
   ],
   "source": [
    "target_columns = ['rougher.output.recovery','final.output.recovery']\n",
    "print('Пропущенные данные в столбцах, кол-во:\\n',gold[target_columns].isna().sum())\n",
    "gold.dropna(subset=target_columns,inplace = True)"
   ]
  },
  {
   "cell_type": "markdown",
   "metadata": {},
   "source": [
    "__Заполнение пропусков в не целевых столбцах__\n",
    "\n",
    "Предположим, что близкие по времени образцы имеют похожие параметры.\n",
    "В таком случае заполним пропуски в нецелевых столбцах ближайшими значениями."
   ]
  },
  {
   "cell_type": "code",
   "execution_count": 8,
   "metadata": {},
   "outputs": [],
   "source": [
    "gold=gold.fillna(method='ffill')"
   ]
  },
  {
   "cell_type": "markdown",
   "metadata": {},
   "source": [
    "### 1.2. Проверка правильности расчета целевого признака rougher.output.recovery для тренировочных данных\n",
    "\n",
    "Для этого используются данные:\n",
    "- C — доля золота в концентрате после флотации/очистки;\n",
    "- F — доля золота в сырье/концентрате до флотации/очистки;\n",
    "- T — доля золота в отвальных хвостах после флотации/очистки.\n",
    "\n",
    "Recovery = C*(F-T)/(F*(C-T))*100"
   ]
  },
  {
   "cell_type": "code",
   "execution_count": 9,
   "metadata": {},
   "outputs": [
    {
     "data": {
      "image/png": "[encoded data removed]",
      "text/plain": [
       "<Figure size 432x288 with 1 Axes>"
      ]
     },
     "metadata": {
      "needs_background": "light"
     },
     "output_type": "display_data"
    },
    {
     "data": {
      "image/png": "[encoded data removed]",
      "text/plain": [
       "<Figure size 432x288 with 1 Axes>"
      ]
     },
     "metadata": {
      "needs_background": "light"
     },
     "output_type": "display_data"
    }
   ],
   "source": [
    "def output(data):\n",
    "    C = data['rougher.output.concentrate_au']\n",
    "    F = data['rougher.input.feed_au']\n",
    "    T = data['rougher.output.tail_au']\n",
    "    rec = C*(F-T)/(F*(C-T))*100\n",
    "    return rec\n",
    "gold['recovery_calculated'] = gold.apply(output,axis=1)\n",
    "gold.dropna(subset=['recovery_calculated'],inplace=True)\n",
    "sns.distplot(gold['recovery_calculated'])\n",
    "plt.show()\n",
    "gold.boxplot(column= ['recovery_calculated'])\n",
    "plt.show()\n",
    "gold=gold[gold['recovery_calculated'].values >=0]\n",
    "gold=gold[gold['recovery_calculated'].values <100]\n",
    "# print(gold_train['rougher.output.concentrate_au'].isna().sum())\n",
    "# print(gold_train['rougher.input.feed_au'].isna().sum())\n",
    "# print(gold_train['rougher.output.tail_au'].isna().sum())\n",
    "# print(gold_train['recovery_calculated'].isna().sum())"
   ]
  },
  {
   "cell_type": "markdown",
   "metadata": {},
   "source": [
    "Избавимся от выбросов из за значений в расчетах, близких к нулю. Оставим значения от 0 до 100."
   ]
  },
  {
   "cell_type": "code",
   "execution_count": 10,
   "metadata": {},
   "outputs": [
    {
     "data": {
      "text/plain": [
       "<matplotlib.axes._subplots.AxesSubplot at 0x7fe3902ec990>"
      ]
     },
     "execution_count": 10,
     "metadata": {},
     "output_type": "execute_result"
    },
    {
     "data": {
      "image/png": "[encoded data removed]",
      "text/plain": [
       "<Figure size 432x288 with 1 Axes>"
      ]
     },
     "metadata": {
      "needs_background": "light"
     },
     "output_type": "display_data"
    }
   ],
   "source": [
    "sns.distplot(gold['rougher.output.recovery'])"
   ]
  },
  {
   "cell_type": "markdown",
   "metadata": {},
   "source": [
    "__Расчет MAE для рассчитанного вручную целевого признака__"
   ]
  },
  {
   "cell_type": "code",
   "execution_count": 11,
   "metadata": {},
   "outputs": [
    {
     "name": "stdout",
     "output_type": "stream",
     "text": [
      "9.833260296606938e-15\n"
     ]
    }
   ],
   "source": [
    "recovery_mae = mean_absolute_error(gold['recovery_calculated'],gold['rougher.output.recovery'])\n",
    "print(recovery_mae)"
   ]
  },
  {
   "cell_type": "markdown",
   "metadata": {},
   "source": [
    "__Вывод__\n",
    "Что ж, рассчитаный целевой признак почти не отличается от указанного в исходных данных, правда, до этого пришлось поработать с данными: мы удалили образцы с нулевым содержанием золота, а также наблюдения без целевого признака.\n",
    "\n",
    "Медиана целевого признака находится на 85%. половина значений целевого признака находится от 80 до 90%, что показывает эффективность многоэтапной очистки золота.\n",
    "\n",
    "Целевой признак распределен нормально с небольшой дисперсией, что говорит о том, что очистка является стабильной и приводит к ожидаемому результату.\n",
    "\n",
    "Далее построим модель для предсказания качества очистки образца, а также определим, от каких факторов больше всего зависит качество очистки.\n",
    "\n",
    "### 1.3. Анализ признаков, не доступных в тестовой выборке"
   ]
  },
  {
   "cell_type": "code",
   "execution_count": 12,
   "metadata": {},
   "outputs": [
    {
     "name": "stdout",
     "output_type": "stream",
     "text": [
      "5                        primary_cleaner.output.tail_au\n",
      "6                         rougher.output.concentrate_au\n",
      "9                 primary_cleaner.output.concentrate_au\n",
      "11                               rougher.output.tail_au\n",
      "12                          final.output.concentrate_au\n",
      "17    rougher.calculation.floatbank10_sulfate_to_au_...\n",
      "22                     secondary_cleaner.output.tail_au\n",
      "24                                 final.output.tail_au\n",
      "26    rougher.calculation.floatbank11_sulfate_to_au_...\n",
      "30        rougher.calculation.sulfate_to_au_concentrate\n",
      "34                      rougher.calculation.au_pb_ratio\n",
      "dtype: object\n"
     ]
    }
   ],
   "source": [
    "result=list(set(gold.columns) ^ set(gold_test.columns))\n",
    "result =pd.Series(result)\n",
    "#определим только те столбцы, в которых присутствует золото\n",
    "result_au = result[result.str.contains('au')]\n",
    "print(result_au)"
   ]
  },
  {
   "cell_type": "markdown",
   "metadata": {},
   "source": [
    "__Вывод__\n",
    "В тестовой выборке отсутствует множество столбцов, связанных с концентрацией разных веществ в образце после этапов очистки.\n",
    "Естественно, в тестовой выборке отсутсвует целевой признак.\n",
    "\n",
    "Также в тестовой выборке отсутствует значения:\n",
    "- концентрации золота в хвостах на каждом этапе.\n",
    "- концентрации золота в образце после финальной очистки и флотации.\n",
    "- отношение золота к свинцу в финальном образце.\n",
    "- отношения золота к сульфиду натрия при флотации.\n",
    "- и т.д.\n",
    "\n",
    "Что самое важное - в тестовой выборке отсутствуют 2 из 3 значений, используемых при расчете целевого признака:\n",
    "- ['rougher.output.tail_au']\n",
    "- ['rougher.output.tail_au']\n",
    "\n",
    "При обучении модели будет проверяться, насколько точно можно предсказать целевой признак по остальным значениям этапов очистки.\n"
   ]
  },
  {
   "cell_type": "markdown",
   "metadata": {},
   "source": [
    "# 2. Анализ данных"
   ]
  },
  {
   "cell_type": "markdown",
   "metadata": {},
   "source": [
    "### 2.1. Посмотрите, как меняется концентрация металлов (Au, Ag, Pb) на различных этапах очистки. Опишите выводы."
   ]
  },
  {
   "cell_type": "code",
   "execution_count": 13,
   "metadata": {},
   "outputs": [
    {
     "name": "stdout",
     "output_type": "stream",
     "text": [
      "0            rougher.output.concentrate_au\n",
      "1    primary_cleaner.output.concentrate_au\n",
      "2              final.output.concentrate_au\n",
      "dtype: object\n"
     ]
    },
    {
     "data": {
      "text/plain": [
       "[<matplotlib.lines.Line2D at 0x7fe3969445d0>]"
      ]
     },
     "execution_count": 13,
     "metadata": {},
     "output_type": "execute_result"
    },
    {
     "data": {
      "image/png": "[encoded data removed]",
      "text/plain": [
       "<Figure size 432x288 with 1 Axes>"
      ]
     },
     "metadata": {
      "needs_background": "light"
     },
     "output_type": "display_data"
    }
   ],
   "source": [
    "gold_columns_au = pd.Series(gold.columns[gold.columns.str.contains('concentrate_au')][::-1])\n",
    "gold_columns_pb=pd.Series(gold.columns[gold.columns.str.contains('concentrate_pb')][::-1])\n",
    "gold_columns_ag=pd.Series(gold.columns[gold.columns.str.contains('concentrate_ag')][::-1])\n",
    "print(gold_columns_au)\n",
    "gold_changes_au = gold.dropna(subset=gold_columns_au)[gold_columns_au].median()\n",
    "gold_changes_ag = gold.dropna(subset=gold_columns_ag)[gold_columns_ag].median()\n",
    "gold_changes_pb = gold.dropna(subset=gold_columns_pb)[gold_columns_pb].median()\n",
    "fig, ax = plt.subplots()\n",
    "plt.title(\"Изменение концентрации элементов в образце после этапов очистки\")\n",
    "plt.xticks([1, 4, 7], ['Золото', 'Серебро', 'Свинец'])\n",
    "plt.ylabel(\"%\")\n",
    "plt.grid(color='r', linestyle='-', linewidth=0.2)\n",
    "ax.plot(gold_changes_au)\n",
    "ax.plot(gold_changes_ag)\n",
    "ax.plot(gold_changes_pb)"
   ]
  },
  {
   "cell_type": "code",
   "execution_count": 14,
   "metadata": {},
   "outputs": [
    {
     "data": {
      "image/png": "[encoded data removed]",
      "text/plain": [
       "<Figure size 432x288 with 1 Axes>"
      ]
     },
     "metadata": {
      "needs_background": "light"
     },
     "output_type": "display_data"
    },
    {
     "data": {
      "image/png": "[encoded data removed]",
      "text/plain": [
       "<Figure size 432x288 with 1 Axes>"
      ]
     },
     "metadata": {
      "needs_background": "light"
     },
     "output_type": "display_data"
    },
    {
     "data": {
      "image/png": "[encoded data removed]",
      "text/plain": [
       "<Figure size 432x288 with 1 Axes>"
      ]
     },
     "metadata": {
      "needs_background": "light"
     },
     "output_type": "display_data"
    },
    {
     "data": {
      "image/png": "[encoded data removed]",
      "text/plain": [
       "<Figure size 432x288 with 1 Axes>"
      ]
     },
     "metadata": {
      "needs_background": "light"
     },
     "output_type": "display_data"
    }
   ],
   "source": [
    "# gold.dropna(subset=['rougher.input.feed_au',\n",
    "#                     'rougher.input.feed_ag',\n",
    "#                     'rougher.input.feed_pb'],inplace=True)\n",
    "sns.distplot(gold['rougher.input.feed_au'],label='Золото')\n",
    "sns.distplot(gold['rougher.input.feed_ag'],label='Серебро')\n",
    "sns.distplot(gold['rougher.input.feed_pb'],label='Свинец')\n",
    "plt.legend()\n",
    "plt.title('Начальная концентрация элементов в образце')\n",
    "plt.xlim(0,60)\n",
    "plt.ylim(0,0.4)\n",
    "plt.show()\n",
    "\n",
    "\n",
    "# gold.dropna(subset=['rougher.output.concentrate_au',\n",
    "#                     'rougher.output.concentrate_ag',\n",
    "#                     'rougher.output.concentrate_pb'],inplace=True)\n",
    "sns.distplot(gold['rougher.output.concentrate_au'],label='Золото')\n",
    "sns.distplot(gold['rougher.output.concentrate_ag'],label='Серебро')\n",
    "sns.distplot(gold['rougher.output.concentrate_pb'],label='Свинец')\n",
    "plt.legend()\n",
    "plt.title('Концентрация элементов в образце после флотации')\n",
    "plt.xlim(0,60)\n",
    "plt.ylim(0,0.4)\n",
    "plt.show()\n",
    "\n",
    "# gold.dropna(subset=['primary_cleaner.output.concentrate_au',\n",
    "#                     'primary_cleaner.output.concentrate_ag',\n",
    "#                     'primary_cleaner.output.concentrate_pb'],inplace=True)\n",
    "sns.distplot(gold['primary_cleaner.output.concentrate_au'],label='Золото')\n",
    "sns.distplot(gold['primary_cleaner.output.concentrate_ag'],label='Серебро')\n",
    "sns.distplot(gold['primary_cleaner.output.concentrate_pb'],label='Свинец')\n",
    "plt.legend()\n",
    "plt.title('Концентрация элементов в образце после первого этапа очистки')\n",
    "plt.xlim(0,60)\n",
    "plt.ylim(0,0.4)\n",
    "plt.show()\n",
    "\n",
    "# gold.dropna(subset=['final.output.concentrate_au',\n",
    "#                     'final.output.concentrate_ag',\n",
    "#                     'final.output.concentrate_pb'],inplace=True)\n",
    "sns.distplot(gold['final.output.concentrate_au'],label='Золото')\n",
    "sns.distplot(gold['final.output.concentrate_ag'],label='Серебро')\n",
    "sns.distplot(gold['final.output.concentrate_pb'],label='Свинец')\n",
    "plt.legend()\n",
    "plt.title('Финальная концентрация элементов в образце')\n",
    "plt.xlim(0,60)\n",
    "plt.ylim(0,0.4)\n",
    "plt.show()\n"
   ]
  },
  {
   "cell_type": "markdown",
   "metadata": {},
   "source": [
    "__Вывод__\n",
    "\n",
    "На графике выше представлены изменения средних концентраций на трёх этапах очистки для золота, серебра и свинца.\n",
    "\n",
    "Концентрация золота увеличивается, а концентрация серебра уменьшается, соответственно, более, чем в 2 раза.\n",
    "Концентрация свинца в образце немного увеличивается, но потом остается на прежнем уровне.\n",
    "\n",
    "На гистограмме плотностей распределения видно, что после очистки уменьшается дисперсия распределния концентрации элементов; золото сдвигается вправо - в сторону большей концентрации, свиней и серебро - влево.\n",
    "\n",
    "Также представим распределение каждого вещества по этапам"
   ]
  },
  {
   "cell_type": "code",
   "execution_count": 15,
   "metadata": {},
   "outputs": [
    {
     "data": {
      "image/png": "[encoded data removed]",
      "text/plain": [
       "<Figure size 432x288 with 1 Axes>"
      ]
     },
     "metadata": {
      "needs_background": "light"
     },
     "output_type": "display_data"
    },
    {
     "data": {
      "image/png": "[encoded data removed]",
      "text/plain": [
       "<Figure size 432x288 with 1 Axes>"
      ]
     },
     "metadata": {
      "needs_background": "light"
     },
     "output_type": "display_data"
    },
    {
     "data": {
      "image/png": "[encoded data removed]",
      "text/plain": [
       "<Figure size 432x288 with 1 Axes>"
      ]
     },
     "metadata": {
      "needs_background": "light"
     },
     "output_type": "display_data"
    }
   ],
   "source": [
    "sns.distplot(gold['rougher.input.feed_au'],label='До флотации')\n",
    "sns.distplot(gold['rougher.output.concentrate_au'],label='После флотации')\n",
    "sns.distplot(gold['primary_cleaner.output.concentrate_au'],label='После первого этапа')\n",
    "sns.distplot(gold['final.output.concentrate_au'],label='Финальная очистка')\n",
    "plt.legend()\n",
    "plt.xlim(0,60)\n",
    "plt.ylim(0,0.4)\n",
    "plt.title('Распределение золота по этапам')\n",
    "plt.show()\n",
    "\n",
    "sns.distplot(gold['rougher.input.feed_ag'],label='До флотации')\n",
    "sns.distplot(gold['rougher.output.concentrate_ag'],label='После флотации')\n",
    "sns.distplot(gold['primary_cleaner.output.concentrate_ag'],label='После первого этапа')\n",
    "sns.distplot(gold['final.output.concentrate_ag'],label='Финальная очистка')\n",
    "plt.legend()\n",
    "plt.xlim(0,60)\n",
    "plt.ylim(0,0.4)\n",
    "plt.title('Распределение серебра по этапам')\n",
    "plt.show()\n",
    "\n",
    "sns.distplot(gold['rougher.input.feed_pb'],label='До флотации')\n",
    "sns.distplot(gold['rougher.output.concentrate_pb'],label='После флотации')\n",
    "sns.distplot(gold['primary_cleaner.output.concentrate_pb'],label='После первого этапа')\n",
    "sns.distplot(gold['final.output.concentrate_pb'],label='Финальная очистка')\n",
    "plt.legend()\n",
    "plt.xlim(0,60)\n",
    "plt.ylim(0,0.4)\n",
    "plt.title('Распределение свинца по этапам')\n",
    "plt.show()"
   ]
  },
  {
   "cell_type": "markdown",
   "metadata": {},
   "source": [
    "__Вывод__\n",
    "\n",
    "Также мы видим, что доля серебра уменьшается обратно пропорционально доле золота.\n",
    "Однако доля свинца увеличивается, хотя и остается заметно меньше доли золота после финальной очистки.\n",
    "\n",
    "__Выбросы__\n",
    "У золота присутствуют аномальные значения в районе 0 на каждом этапе.\n",
    "Избавимся от них, приняв доверительный интервал - 2.5% снизу, отбросив все значения ниже."
   ]
  },
  {
   "cell_type": "code",
   "execution_count": 16,
   "metadata": {},
   "outputs": [],
   "source": [
    "gold=gold[gold['final.output.recovery'] > gold['final.output.recovery'].quantile(0.025)]\n",
    "gold=gold[gold['rougher.output.concentrate_au'] > gold['rougher.output.concentrate_au'].quantile(0.025)]\n",
    "gold=gold[gold['primary_cleaner.output.concentrate_au'] > gold['primary_cleaner.output.concentrate_au'].quantile(0.025)]\n",
    "gold=gold[gold['final.output.concentrate_au'] > gold['final.output.concentrate_au'].quantile(0.025)]"
   ]
  },
  {
   "cell_type": "markdown",
   "metadata": {},
   "source": [
    "__Использование предобработанных данных в тестовой и тренировочной выборках__\n",
    "\n",
    "На предыдущих этапах мы подготовили и проверили на адекватность и соответствие условиям задачи все данные. Теперь распределим эти данные по заранее разбитым выборкам.\n",
    "\n",
    "В тестовой и тренировочной выборках данные согласуются по времени наблюдения.\n",
    "Используя дату и время как индекс, заменим значения из выборок на значения из предобработанных данных."
   ]
  },
  {
   "cell_type": "code",
   "execution_count": 17,
   "metadata": {},
   "outputs": [],
   "source": [
    "gold.set_index('date',inplace=True)\n",
    "gold_train.set_index('date',inplace=True)\n",
    "gold_test.set_index('date',inplace=True)"
   ]
  },
  {
   "cell_type": "code",
   "execution_count": 18,
   "metadata": {},
   "outputs": [
    {
     "name": "stdout",
     "output_type": "stream",
     "text": [
      "9027\n"
     ]
    }
   ],
   "source": [
    "print(len(list(set(gold.index) ^ set(gold_train.index))))"
   ]
  },
  {
   "cell_type": "code",
   "execution_count": 19,
   "metadata": {},
   "outputs": [
    {
     "name": "stdout",
     "output_type": "stream",
     "text": [
      "(17561, 52) (5856, 52)\n"
     ]
    }
   ],
   "source": [
    "gold_index=pd.Series(gold.index)\n",
    "gold_train_index=pd.Series(gold_train.index)\n",
    "gold_test_index=pd.Series(gold_test.index)\n",
    "gold_short = gold[gold_test.columns]\n",
    "print(gold_short.shape, gold_test.shape)\n",
    "gold = gold.drop('recovery_calculated',axis=1)\n",
    "for i in gold_test_index.values:\n",
    "    gold_test[gold_test.index == i] = gold_short[gold_short.index == i]\n",
    "for i in gold_train_index.values:\n",
    "    gold_train[gold_train.index == i] = gold[gold.index == i]"
   ]
  },
  {
   "cell_type": "code",
   "execution_count": 20,
   "metadata": {},
   "outputs": [],
   "source": [
    "# поскольку при подготовке данных некоторые строки в исходных данных были удалены,\n",
    "# остались некоторые пустые строки при переносе данных из исходных данных в выборки/\n",
    "# надо их удалить\n",
    "gold_test.dropna(inplace=True)\n",
    "gold_train.dropna(inplace=True)"
   ]
  },
  {
   "cell_type": "markdown",
   "metadata": {},
   "source": [
    "### 2.2. Сравните распределения размеров гранул сырья на обучающей и тестовой выборках. Если распределения сильно отличаются друг от друга, оценка модели будет неправильной."
   ]
  },
  {
   "cell_type": "markdown",
   "metadata": {},
   "source": [
    "__Нулевая гипотеза__ размеры гранул на тестовой и тренировочной выборках равны.\n",
    "\n",
    "__Альтернативная гипотеза__ размеры гранул на тестовой и тренировочной выборках различаются. "
   ]
  },
  {
   "cell_type": "code",
   "execution_count": 21,
   "metadata": {},
   "outputs": [],
   "source": [
    "gold_train_size_columns = pd.Series(gold_train.columns[gold_train.columns.str.contains('feed_size')])\n",
    "gold_test_size_columns = pd.Series(gold_test.columns[gold_test.columns.str.contains('feed_size')])\n",
    "gold_test_size = gold_test.dropna(subset=gold_test_size_columns)[gold_test_size_columns]\n",
    "gold_train_size = gold_train.dropna(subset=gold_train_size_columns)[gold_train_size_columns]"
   ]
  },
  {
   "cell_type": "code",
   "execution_count": 22,
   "metadata": {},
   "outputs": [
    {
     "name": "stdout",
     "output_type": "stream",
     "text": [
      "Разность средних значений размеров гранул после флотации 4.336870619159043\n",
      "p-value = 0.0\n",
      "Отвергаем нулевую гипотезу: скорее всего, разница велика\n",
      "Разность средних значений размеров гранул после первого этапа очистки 0.07615148921302861\n",
      "p-value = 0.0\n",
      "Отвергаем нулевую гипотезу: скорее всего, разница статистически велика\n"
     ]
    }
   ],
   "source": [
    "state = np.random.RandomState(12345)\n",
    "\n",
    "values1=gold_test_size['primary_cleaner.input.feed_size']\n",
    "values2=gold_train_size['primary_cleaner.input.feed_size']\n",
    "values3=gold_test_size['rougher.input.feed_size']\n",
    "values4=gold_train_size['rougher.input.feed_size']\n",
    "AB_difference = abs(values4.mean() - values3.mean()) ### тоже должен быть модуль\n",
    "print(\"Разность средних значений размеров гранул после флотации\",AB_difference)\n",
    "bootstrap_samples = 1000\n",
    "state = np.random.RandomState(12345)\n",
    "count = 0\n",
    "for i in range(bootstrap_samples):\n",
    "    united_samples1 = pd.concat([values3, values4])\n",
    "    subsample1 = united_samples1.sample(frac=1, replace=True, random_state=state)\n",
    "    subsample_3 = subsample1[:len(values3)]\n",
    "    subsample_4 = subsample1[len(values3):]\n",
    "    bootstrap_difference = abs(subsample_4.mean()-subsample_3.mean())\n",
    "    if bootstrap_difference >= AB_difference:\n",
    "        count += 1\n",
    "\n",
    "# p-value равно доле превышений значений\n",
    "pvalue = count / bootstrap_samples\n",
    "print('p-value =', pvalue)\n",
    "\n",
    "if pvalue < 0.05:\n",
    "    print(\"Отвергаем нулевую гипотезу: скорее всего, разница велика\")\n",
    "else:\n",
    "    print(\"Не получилось отвергнуть нулевую гипотезу: скорее всего, разница не значительна\")\n",
    "    \n",
    "\n",
    "AB_difference = abs(values2.mean() - values1.mean()) ### должен быть модуль\n",
    "print(\"Разность средних значений размеров гранул после первого этапа очистки\",AB_difference)\n",
    "bootstrap_samples = 1000\n",
    "state = np.random.RandomState(12345)\n",
    "count = 0\n",
    "for i in range(bootstrap_samples):\n",
    "    united_samples2 = pd.concat([values1, values2])\n",
    "    subsample2 = united_samples2.sample(frac=1, replace=True, random_state=state)\n",
    "    subsample_1 = subsample2[:len(values1)]\n",
    "    subsample_2 = subsample2[len(values1):]\n",
    "    bootstrap_difference = abs(subsample_2.mean()-subsample_1.mean())\n",
    "    if bootstrap_difference >= AB_difference:\n",
    "        count += 1\n",
    "\n",
    "# p-value равно доле превышений значений\n",
    "pvalue = count / bootstrap_samples\n",
    "print('p-value =', pvalue)\n",
    "\n",
    "if pvalue < 0.05:\n",
    "    print(\"Отвергаем нулевую гипотезу: скорее всего, разница статистически велика\")\n",
    "else:\n",
    "    print(\"Не получилось отвергнуть нулевую гипотезу: скорее всего, разница не значительна\")"
   ]
  },
  {
   "cell_type": "code",
   "execution_count": 23,
   "metadata": {},
   "outputs": [
    {
     "data": {
      "image/png": "[encoded data removed]",
      "text/plain": [
       "<Figure size 432x288 with 1 Axes>"
      ]
     },
     "metadata": {
      "needs_background": "light"
     },
     "output_type": "display_data"
    },
    {
     "data": {
      "image/png": "[encoded data removed]",
      "text/plain": [
       "<Figure size 432x288 with 1 Axes>"
      ]
     },
     "metadata": {
      "needs_background": "light"
     },
     "output_type": "display_data"
    }
   ],
   "source": [
    "plt.title('Распределение размеров гранул сырья после флотации')\n",
    "sns.distplot(gold_test_size['rougher.input.feed_size'],label='test')  \n",
    "sns.distplot(gold_train_size['rougher.input.feed_size'],label='train') \n",
    "plt.legend()\n",
    "plt.show()\n",
    "plt.title('Распределение размеров гранул сырья после первого этапа очистки')\n",
    "sns.distplot(gold_test_size['primary_cleaner.input.feed_size'],label='test')  \n",
    "sns.distplot(gold_train_size['primary_cleaner.input.feed_size'],label='train') \n",
    "plt.plot(gold_test_size['primary_cleaner.input.feed_size'].mean())\n",
    "plt.plot(gold_train_size['primary_cleaner.input.feed_size'].mean())\n",
    "plt.xlim(0,20)\n",
    "plt.ylim(0,0.9)\n",
    "plt.legend()\n",
    "plt.show()"
   ]
  },
  {
   "cell_type": "markdown",
   "metadata": {},
   "source": [
    "__Вывод__\n",
    "\n",
    "Несмотря на то, что статистическая значимость разницы двух выборок значительна, чтобы её пренебречь, фактическое значение разницы слишком мало."
   ]
  },
  {
   "cell_type": "code",
   "execution_count": 24,
   "metadata": {},
   "outputs": [
    {
     "name": "stdout",
     "output_type": "stream",
     "text": [
      "0     rougher.input.feed_ag\n",
      "1     rougher.input.feed_pb\n",
      "2    rougher.input.feed_sol\n",
      "3     rougher.input.feed_au\n",
      "dtype: object\n",
      "0     rougher.output.concentrate_ag\n",
      "1     rougher.output.concentrate_pb\n",
      "2    rougher.output.concentrate_sol\n",
      "3     rougher.output.concentrate_au\n",
      "dtype: object\n",
      "0     final.output.concentrate_ag\n",
      "1     final.output.concentrate_pb\n",
      "2    final.output.concentrate_sol\n",
      "3     final.output.concentrate_au\n",
      "dtype: object\n"
     ]
    }
   ],
   "source": [
    "# rougher_input_columns =gold_train.columns[gold_train.columns.str.contains(pat='rougher.input.feed_')]\n",
    "rougher_input_columns =['rougher.input.feed_ag','rougher.input.feed_pb','rougher.input.feed_sol','rougher.input.feed_au']\n",
    "# rougher_input_columns.remove('rougher.input.feed_rate','rougher.input.feed_size')\n",
    "rougher_output_columns =gold_train.columns[gold_train.columns.str.contains(pat='rougher.output.concentrate_')]\n",
    "final_columns =gold_train.columns[gold_train.columns.str.contains(pat='final.output.concentrate_')]\n",
    "\n",
    "print(pd.Series(rougher_input_columns))\n",
    "print(pd.Series(rougher_output_columns))\n",
    "print(pd.Series(final_columns))"
   ]
  },
  {
   "cell_type": "markdown",
   "metadata": {},
   "source": [
    "### 2.3. Исследуйте суммарную концентрацию всех веществ на разных стадиях: в сырье, в черновом и финальном концентратах. Заметили аномальные значения в суммарном распределении или нет? Если они есть, стоит ли их удалять из обеих выборок? Опишите выводы и удалите аномалии."
   ]
  },
  {
   "cell_type": "code",
   "execution_count": 25,
   "metadata": {},
   "outputs": [
    {
     "data": {
      "image/png": "[encoded data removed]",
      "text/plain": [
       "<Figure size 432x288 with 1 Axes>"
      ]
     },
     "metadata": {
      "needs_background": "light"
     },
     "output_type": "display_data"
    },
    {
     "data": {
      "image/png": "[encoded data removed]",
      "text/plain": [
       "<Figure size 432x288 with 1 Axes>"
      ]
     },
     "metadata": {
      "needs_background": "light"
     },
     "output_type": "display_data"
    },
    {
     "data": {
      "image/png": "[encoded data removed]",
      "text/plain": [
       "<Figure size 432x288 with 1 Axes>"
      ]
     },
     "metadata": {
      "needs_background": "light"
     },
     "output_type": "display_data"
    }
   ],
   "source": [
    "gold_train['rougher_input_total'] = gold_train[rougher_input_columns].sum(axis=1)\n",
    "gold_test['rougher_input_total'] = gold_test[rougher_input_columns].sum(axis=1)\n",
    "sns.distplot(gold_train['rougher_input_total'].reset_index(drop=True), label='тренировочная выборка')\n",
    "sns.distplot(gold_test['rougher_input_total'].reset_index(drop=True), label='тестовая выборка')\n",
    "plt.legend()\n",
    "plt.xlim(0,90)\n",
    "# plt.ylim(0,0.4)\n",
    "plt.title('Суммарная концентрация до флотации')\n",
    "plt.show()\n",
    "\n",
    "gold_train['rougher_output_total'] = gold_train[rougher_output_columns].sum(axis=1)\n",
    "sns.distplot(gold_train['rougher_output_total'].reset_index(drop=True), label='тренировочная выборка')\n",
    "plt.legend()\n",
    "plt.xlim(0,90)\n",
    "plt.title('Суммарная концентрация после флотации')\n",
    "plt.show()\n",
    "\n",
    "gold_train['final_total'] = gold_train[final_columns].sum(axis=1)\n",
    "sns.distplot(gold_train['final_total'].reset_index(drop=True), label='тренировочная выборка')\n",
    "plt.legend()\n",
    "plt.xlim(0,90)\n",
    "plt.title('Суммарная концентрация в финале')\n",
    "plt.show()\n",
    "\n",
    "\n"
   ]
  },
  {
   "cell_type": "markdown",
   "metadata": {},
   "source": [
    "__Вывод__\n",
    "\n",
    "Значение концентраций всех веществ на каждом этапе близки к нормальному распределению.\n",
    "\n",
    "Аномалии в данных отсутсвут. Виден небольшой полупик на третьем графике. "
   ]
  },
  {
   "cell_type": "markdown",
   "metadata": {},
   "source": [
    "# 3. Модель"
   ]
  },
  {
   "cell_type": "markdown",
   "metadata": {},
   "source": [
    "### 3.1. Напишите функцию для вычисления итоговой sMAPE"
   ]
  },
  {
   "cell_type": "code",
   "execution_count": 26,
   "metadata": {},
   "outputs": [],
   "source": [
    "def smape(y_true, y_pred):\n",
    "    return  np.sum(2 * np.abs(y_pred - y_true) / (np.abs(y_true) + np.abs(y_pred))) * 100/len(y_true) \n",
    "\n",
    "score=make_scorer(smape, greater_is_better=False)"
   ]
  },
  {
   "cell_type": "markdown",
   "metadata": {},
   "source": [
    "### 3.2. Обучите разные модели и оцените их качество кросс-валидацией. Выберите лучшую модель и проверьте её на тестовой выборке. Опишите выводы."
   ]
  },
  {
   "cell_type": "code",
   "execution_count": 27,
   "metadata": {},
   "outputs": [],
   "source": [
    "gold_train=gold_train.dropna()\n",
    "gold_test=gold_test.dropna()\n",
    "gold_train_features = gold_train.drop(['rougher.output.recovery', 'final.output.recovery'],axis=1)[gold_test.columns]\n",
    "gold_train_target_rougher=gold_train['rougher.output.recovery']\n",
    "gold_train_target_final=gold_train['final.output.recovery']"
   ]
  },
  {
   "cell_type": "code",
   "execution_count": 28,
   "metadata": {},
   "outputs": [],
   "source": [
    "target_columns = ['rougher.output.recovery','final.output.recovery']\n",
    "from_gold_to_test = gold[target_columns]\n",
    "gold_test_with_target = pd.merge(left=gold_test, right=from_gold_to_test, left_on=gold_test.index, right_on=from_gold_to_test.index)"
   ]
  },
  {
   "cell_type": "code",
   "execution_count": 29,
   "metadata": {},
   "outputs": [
    {
     "data": {
      "text/html": [
       "<div>\n",
       "<style scoped>\n",
       "    .dataframe tbody tr th:only-of-type {\n",
       "        vertical-align: middle;\n",
       "    }\n",
       "\n",
       "    .dataframe tbody tr th {\n",
       "        vertical-align: top;\n",
       "    }\n",
       "\n",
       "    .dataframe thead th {\n",
       "        text-align: right;\n",
       "    }\n",
       "</style>\n",
       "<table border=\"1\" class=\"dataframe\">\n",
       "  <thead>\n",
       "    <tr style=\"text-align: right;\">\n",
       "      <th></th>\n",
       "      <th>primary_cleaner.input.sulfate</th>\n",
       "      <th>primary_cleaner.input.depressant</th>\n",
       "      <th>primary_cleaner.input.feed_size</th>\n",
       "      <th>primary_cleaner.input.xanthate</th>\n",
       "      <th>primary_cleaner.state.floatbank8_a_air</th>\n",
       "      <th>primary_cleaner.state.floatbank8_a_level</th>\n",
       "      <th>primary_cleaner.state.floatbank8_b_air</th>\n",
       "      <th>primary_cleaner.state.floatbank8_b_level</th>\n",
       "      <th>primary_cleaner.state.floatbank8_c_air</th>\n",
       "      <th>primary_cleaner.state.floatbank8_c_level</th>\n",
       "      <th>...</th>\n",
       "      <th>secondary_cleaner.state.floatbank4_a_level</th>\n",
       "      <th>secondary_cleaner.state.floatbank4_b_air</th>\n",
       "      <th>secondary_cleaner.state.floatbank4_b_level</th>\n",
       "      <th>secondary_cleaner.state.floatbank5_a_air</th>\n",
       "      <th>secondary_cleaner.state.floatbank5_a_level</th>\n",
       "      <th>secondary_cleaner.state.floatbank5_b_air</th>\n",
       "      <th>secondary_cleaner.state.floatbank5_b_level</th>\n",
       "      <th>secondary_cleaner.state.floatbank6_a_air</th>\n",
       "      <th>secondary_cleaner.state.floatbank6_a_level</th>\n",
       "      <th>rougher_input_total</th>\n",
       "    </tr>\n",
       "  </thead>\n",
       "  <tbody>\n",
       "    <tr>\n",
       "      <td>0</td>\n",
       "      <td>210.800909</td>\n",
       "      <td>14.993118</td>\n",
       "      <td>8.080000</td>\n",
       "      <td>1.005021</td>\n",
       "      <td>1398.981301</td>\n",
       "      <td>-500.225577</td>\n",
       "      <td>1399.144926</td>\n",
       "      <td>-499.919735</td>\n",
       "      <td>1400.102998</td>\n",
       "      <td>-500.704369</td>\n",
       "      <td>...</td>\n",
       "      <td>-497.795834</td>\n",
       "      <td>8.016656</td>\n",
       "      <td>-501.289139</td>\n",
       "      <td>7.946562</td>\n",
       "      <td>-432.317850</td>\n",
       "      <td>4.872511</td>\n",
       "      <td>-500.037437</td>\n",
       "      <td>26.705889</td>\n",
       "      <td>-499.709414</td>\n",
       "      <td>72.871822</td>\n",
       "    </tr>\n",
       "    <tr>\n",
       "      <td>1</td>\n",
       "      <td>215.392455</td>\n",
       "      <td>14.987471</td>\n",
       "      <td>8.080000</td>\n",
       "      <td>0.990469</td>\n",
       "      <td>1398.777912</td>\n",
       "      <td>-500.057435</td>\n",
       "      <td>1398.055362</td>\n",
       "      <td>-499.778182</td>\n",
       "      <td>1396.151033</td>\n",
       "      <td>-499.240168</td>\n",
       "      <td>...</td>\n",
       "      <td>-498.695773</td>\n",
       "      <td>8.130979</td>\n",
       "      <td>-499.634209</td>\n",
       "      <td>7.958270</td>\n",
       "      <td>-525.839648</td>\n",
       "      <td>4.878850</td>\n",
       "      <td>-500.162375</td>\n",
       "      <td>25.019940</td>\n",
       "      <td>-499.819438</td>\n",
       "      <td>71.669225</td>\n",
       "    </tr>\n",
       "    <tr>\n",
       "      <td>2</td>\n",
       "      <td>215.259946</td>\n",
       "      <td>12.884934</td>\n",
       "      <td>7.786667</td>\n",
       "      <td>0.996043</td>\n",
       "      <td>1398.493666</td>\n",
       "      <td>-500.868360</td>\n",
       "      <td>1398.860436</td>\n",
       "      <td>-499.764529</td>\n",
       "      <td>1398.075709</td>\n",
       "      <td>-502.151509</td>\n",
       "      <td>...</td>\n",
       "      <td>-498.767484</td>\n",
       "      <td>8.096893</td>\n",
       "      <td>-500.827423</td>\n",
       "      <td>8.071056</td>\n",
       "      <td>-500.801673</td>\n",
       "      <td>4.905125</td>\n",
       "      <td>-499.828510</td>\n",
       "      <td>24.994862</td>\n",
       "      <td>-500.622559</td>\n",
       "      <td>73.202598</td>\n",
       "    </tr>\n",
       "    <tr>\n",
       "      <td>3</td>\n",
       "      <td>215.336236</td>\n",
       "      <td>12.006805</td>\n",
       "      <td>7.640000</td>\n",
       "      <td>0.863514</td>\n",
       "      <td>1399.618111</td>\n",
       "      <td>-498.863574</td>\n",
       "      <td>1397.440120</td>\n",
       "      <td>-499.211024</td>\n",
       "      <td>1400.129303</td>\n",
       "      <td>-498.355873</td>\n",
       "      <td>...</td>\n",
       "      <td>-498.350935</td>\n",
       "      <td>8.074946</td>\n",
       "      <td>-499.474407</td>\n",
       "      <td>7.897085</td>\n",
       "      <td>-500.868509</td>\n",
       "      <td>4.931400</td>\n",
       "      <td>-499.963623</td>\n",
       "      <td>24.948919</td>\n",
       "      <td>-498.709987</td>\n",
       "      <td>70.757057</td>\n",
       "    </tr>\n",
       "    <tr>\n",
       "      <td>4</td>\n",
       "      <td>199.099327</td>\n",
       "      <td>10.682530</td>\n",
       "      <td>7.530000</td>\n",
       "      <td>0.805575</td>\n",
       "      <td>1401.268123</td>\n",
       "      <td>-500.808305</td>\n",
       "      <td>1398.128818</td>\n",
       "      <td>-499.504543</td>\n",
       "      <td>1402.172226</td>\n",
       "      <td>-500.810606</td>\n",
       "      <td>...</td>\n",
       "      <td>-500.786497</td>\n",
       "      <td>8.054678</td>\n",
       "      <td>-500.397500</td>\n",
       "      <td>8.107890</td>\n",
       "      <td>-509.526725</td>\n",
       "      <td>4.957674</td>\n",
       "      <td>-500.360026</td>\n",
       "      <td>25.003331</td>\n",
       "      <td>-500.856333</td>\n",
       "      <td>68.654396</td>\n",
       "    </tr>\n",
       "    <tr>\n",
       "      <td>...</td>\n",
       "      <td>...</td>\n",
       "      <td>...</td>\n",
       "      <td>...</td>\n",
       "      <td>...</td>\n",
       "      <td>...</td>\n",
       "      <td>...</td>\n",
       "      <td>...</td>\n",
       "      <td>...</td>\n",
       "      <td>...</td>\n",
       "      <td>...</td>\n",
       "      <td>...</td>\n",
       "      <td>...</td>\n",
       "      <td>...</td>\n",
       "      <td>...</td>\n",
       "      <td>...</td>\n",
       "      <td>...</td>\n",
       "      <td>...</td>\n",
       "      <td>...</td>\n",
       "      <td>...</td>\n",
       "      <td>...</td>\n",
       "      <td>...</td>\n",
       "    </tr>\n",
       "    <tr>\n",
       "      <td>4859</td>\n",
       "      <td>173.957757</td>\n",
       "      <td>15.963399</td>\n",
       "      <td>8.070000</td>\n",
       "      <td>0.896701</td>\n",
       "      <td>1401.930554</td>\n",
       "      <td>-499.728848</td>\n",
       "      <td>1401.441445</td>\n",
       "      <td>-499.193423</td>\n",
       "      <td>1399.810313</td>\n",
       "      <td>-499.599127</td>\n",
       "      <td>...</td>\n",
       "      <td>-500.157454</td>\n",
       "      <td>12.069155</td>\n",
       "      <td>-499.673279</td>\n",
       "      <td>7.977259</td>\n",
       "      <td>-499.516126</td>\n",
       "      <td>5.933319</td>\n",
       "      <td>-499.965973</td>\n",
       "      <td>8.987171</td>\n",
       "      <td>-499.755909</td>\n",
       "      <td>68.910849</td>\n",
       "    </tr>\n",
       "    <tr>\n",
       "      <td>4860</td>\n",
       "      <td>172.910270</td>\n",
       "      <td>16.002605</td>\n",
       "      <td>8.070000</td>\n",
       "      <td>0.896519</td>\n",
       "      <td>1447.075722</td>\n",
       "      <td>-494.716823</td>\n",
       "      <td>1448.851892</td>\n",
       "      <td>-465.963026</td>\n",
       "      <td>1443.890424</td>\n",
       "      <td>-503.587739</td>\n",
       "      <td>...</td>\n",
       "      <td>-496.031539</td>\n",
       "      <td>13.365371</td>\n",
       "      <td>-499.122723</td>\n",
       "      <td>9.288553</td>\n",
       "      <td>-496.892967</td>\n",
       "      <td>7.372897</td>\n",
       "      <td>-499.942956</td>\n",
       "      <td>8.986832</td>\n",
       "      <td>-499.903761</td>\n",
       "      <td>67.166899</td>\n",
       "    </tr>\n",
       "    <tr>\n",
       "      <td>4861</td>\n",
       "      <td>171.135718</td>\n",
       "      <td>15.993669</td>\n",
       "      <td>8.070000</td>\n",
       "      <td>1.165996</td>\n",
       "      <td>1498.836182</td>\n",
       "      <td>-501.770403</td>\n",
       "      <td>1499.572353</td>\n",
       "      <td>-495.516347</td>\n",
       "      <td>1502.749213</td>\n",
       "      <td>-520.667442</td>\n",
       "      <td>...</td>\n",
       "      <td>-499.791312</td>\n",
       "      <td>15.101425</td>\n",
       "      <td>-499.936252</td>\n",
       "      <td>10.989181</td>\n",
       "      <td>-498.347898</td>\n",
       "      <td>9.020944</td>\n",
       "      <td>-500.040448</td>\n",
       "      <td>8.982038</td>\n",
       "      <td>-497.789882</td>\n",
       "      <td>66.955814</td>\n",
       "    </tr>\n",
       "    <tr>\n",
       "      <td>4862</td>\n",
       "      <td>179.697158</td>\n",
       "      <td>15.438979</td>\n",
       "      <td>8.070000</td>\n",
       "      <td>1.501068</td>\n",
       "      <td>1498.466243</td>\n",
       "      <td>-500.483984</td>\n",
       "      <td>1497.986986</td>\n",
       "      <td>-519.200340</td>\n",
       "      <td>1496.569047</td>\n",
       "      <td>-487.479567</td>\n",
       "      <td>...</td>\n",
       "      <td>-499.958750</td>\n",
       "      <td>15.026853</td>\n",
       "      <td>-499.723143</td>\n",
       "      <td>11.011607</td>\n",
       "      <td>-499.985046</td>\n",
       "      <td>9.009783</td>\n",
       "      <td>-499.937902</td>\n",
       "      <td>9.012660</td>\n",
       "      <td>-500.154284</td>\n",
       "      <td>67.420094</td>\n",
       "    </tr>\n",
       "    <tr>\n",
       "      <td>4863</td>\n",
       "      <td>181.556856</td>\n",
       "      <td>14.995850</td>\n",
       "      <td>8.070000</td>\n",
       "      <td>1.623454</td>\n",
       "      <td>1498.096303</td>\n",
       "      <td>-499.796922</td>\n",
       "      <td>1501.743791</td>\n",
       "      <td>-505.146931</td>\n",
       "      <td>1499.535978</td>\n",
       "      <td>-492.428226</td>\n",
       "      <td>...</td>\n",
       "      <td>-500.728588</td>\n",
       "      <td>14.914199</td>\n",
       "      <td>-499.948518</td>\n",
       "      <td>10.986607</td>\n",
       "      <td>-500.658027</td>\n",
       "      <td>8.989497</td>\n",
       "      <td>-500.337588</td>\n",
       "      <td>8.988632</td>\n",
       "      <td>-500.764937</td>\n",
       "      <td>65.583618</td>\n",
       "    </tr>\n",
       "  </tbody>\n",
       "</table>\n",
       "<p>4864 rows × 53 columns</p>\n",
       "</div>"
      ],
      "text/plain": [
       "      primary_cleaner.input.sulfate  primary_cleaner.input.depressant  \\\n",
       "0                        210.800909                         14.993118   \n",
       "1                        215.392455                         14.987471   \n",
       "2                        215.259946                         12.884934   \n",
       "3                        215.336236                         12.006805   \n",
       "4                        199.099327                         10.682530   \n",
       "...                             ...                               ...   \n",
       "4859                     173.957757                         15.963399   \n",
       "4860                     172.910270                         16.002605   \n",
       "4861                     171.135718                         15.993669   \n",
       "4862                     179.697158                         15.438979   \n",
       "4863                     181.556856                         14.995850   \n",
       "\n",
       "      primary_cleaner.input.feed_size  primary_cleaner.input.xanthate  \\\n",
       "0                            8.080000                        1.005021   \n",
       "1                            8.080000                        0.990469   \n",
       "2                            7.786667                        0.996043   \n",
       "3                            7.640000                        0.863514   \n",
       "4                            7.530000                        0.805575   \n",
       "...                               ...                             ...   \n",
       "4859                         8.070000                        0.896701   \n",
       "4860                         8.070000                        0.896519   \n",
       "4861                         8.070000                        1.165996   \n",
       "4862                         8.070000                        1.501068   \n",
       "4863                         8.070000                        1.623454   \n",
       "\n",
       "      primary_cleaner.state.floatbank8_a_air  \\\n",
       "0                                1398.981301   \n",
       "1                                1398.777912   \n",
       "2                                1398.493666   \n",
       "3                                1399.618111   \n",
       "4                                1401.268123   \n",
       "...                                      ...   \n",
       "4859                             1401.930554   \n",
       "4860                             1447.075722   \n",
       "4861                             1498.836182   \n",
       "4862                             1498.466243   \n",
       "4863                             1498.096303   \n",
       "\n",
       "      primary_cleaner.state.floatbank8_a_level  \\\n",
       "0                                  -500.225577   \n",
       "1                                  -500.057435   \n",
       "2                                  -500.868360   \n",
       "3                                  -498.863574   \n",
       "4                                  -500.808305   \n",
       "...                                        ...   \n",
       "4859                               -499.728848   \n",
       "4860                               -494.716823   \n",
       "4861                               -501.770403   \n",
       "4862                               -500.483984   \n",
       "4863                               -499.796922   \n",
       "\n",
       "      primary_cleaner.state.floatbank8_b_air  \\\n",
       "0                                1399.144926   \n",
       "1                                1398.055362   \n",
       "2                                1398.860436   \n",
       "3                                1397.440120   \n",
       "4                                1398.128818   \n",
       "...                                      ...   \n",
       "4859                             1401.441445   \n",
       "4860                             1448.851892   \n",
       "4861                             1499.572353   \n",
       "4862                             1497.986986   \n",
       "4863                             1501.743791   \n",
       "\n",
       "      primary_cleaner.state.floatbank8_b_level  \\\n",
       "0                                  -499.919735   \n",
       "1                                  -499.778182   \n",
       "2                                  -499.764529   \n",
       "3                                  -499.211024   \n",
       "4                                  -499.504543   \n",
       "...                                        ...   \n",
       "4859                               -499.193423   \n",
       "4860                               -465.963026   \n",
       "4861                               -495.516347   \n",
       "4862                               -519.200340   \n",
       "4863                               -505.146931   \n",
       "\n",
       "      primary_cleaner.state.floatbank8_c_air  \\\n",
       "0                                1400.102998   \n",
       "1                                1396.151033   \n",
       "2                                1398.075709   \n",
       "3                                1400.129303   \n",
       "4                                1402.172226   \n",
       "...                                      ...   \n",
       "4859                             1399.810313   \n",
       "4860                             1443.890424   \n",
       "4861                             1502.749213   \n",
       "4862                             1496.569047   \n",
       "4863                             1499.535978   \n",
       "\n",
       "      primary_cleaner.state.floatbank8_c_level  ...  \\\n",
       "0                                  -500.704369  ...   \n",
       "1                                  -499.240168  ...   \n",
       "2                                  -502.151509  ...   \n",
       "3                                  -498.355873  ...   \n",
       "4                                  -500.810606  ...   \n",
       "...                                        ...  ...   \n",
       "4859                               -499.599127  ...   \n",
       "4860                               -503.587739  ...   \n",
       "4861                               -520.667442  ...   \n",
       "4862                               -487.479567  ...   \n",
       "4863                               -492.428226  ...   \n",
       "\n",
       "      secondary_cleaner.state.floatbank4_a_level  \\\n",
       "0                                    -497.795834   \n",
       "1                                    -498.695773   \n",
       "2                                    -498.767484   \n",
       "3                                    -498.350935   \n",
       "4                                    -500.786497   \n",
       "...                                          ...   \n",
       "4859                                 -500.157454   \n",
       "4860                                 -496.031539   \n",
       "4861                                 -499.791312   \n",
       "4862                                 -499.958750   \n",
       "4863                                 -500.728588   \n",
       "\n",
       "      secondary_cleaner.state.floatbank4_b_air  \\\n",
       "0                                     8.016656   \n",
       "1                                     8.130979   \n",
       "2                                     8.096893   \n",
       "3                                     8.074946   \n",
       "4                                     8.054678   \n",
       "...                                        ...   \n",
       "4859                                 12.069155   \n",
       "4860                                 13.365371   \n",
       "4861                                 15.101425   \n",
       "4862                                 15.026853   \n",
       "4863                                 14.914199   \n",
       "\n",
       "      secondary_cleaner.state.floatbank4_b_level  \\\n",
       "0                                    -501.289139   \n",
       "1                                    -499.634209   \n",
       "2                                    -500.827423   \n",
       "3                                    -499.474407   \n",
       "4                                    -500.397500   \n",
       "...                                          ...   \n",
       "4859                                 -499.673279   \n",
       "4860                                 -499.122723   \n",
       "4861                                 -499.936252   \n",
       "4862                                 -499.723143   \n",
       "4863                                 -499.948518   \n",
       "\n",
       "      secondary_cleaner.state.floatbank5_a_air  \\\n",
       "0                                     7.946562   \n",
       "1                                     7.958270   \n",
       "2                                     8.071056   \n",
       "3                                     7.897085   \n",
       "4                                     8.107890   \n",
       "...                                        ...   \n",
       "4859                                  7.977259   \n",
       "4860                                  9.288553   \n",
       "4861                                 10.989181   \n",
       "4862                                 11.011607   \n",
       "4863                                 10.986607   \n",
       "\n",
       "      secondary_cleaner.state.floatbank5_a_level  \\\n",
       "0                                    -432.317850   \n",
       "1                                    -525.839648   \n",
       "2                                    -500.801673   \n",
       "3                                    -500.868509   \n",
       "4                                    -509.526725   \n",
       "...                                          ...   \n",
       "4859                                 -499.516126   \n",
       "4860                                 -496.892967   \n",
       "4861                                 -498.347898   \n",
       "4862                                 -499.985046   \n",
       "4863                                 -500.658027   \n",
       "\n",
       "      secondary_cleaner.state.floatbank5_b_air  \\\n",
       "0                                     4.872511   \n",
       "1                                     4.878850   \n",
       "2                                     4.905125   \n",
       "3                                     4.931400   \n",
       "4                                     4.957674   \n",
       "...                                        ...   \n",
       "4859                                  5.933319   \n",
       "4860                                  7.372897   \n",
       "4861                                  9.020944   \n",
       "4862                                  9.009783   \n",
       "4863                                  8.989497   \n",
       "\n",
       "      secondary_cleaner.state.floatbank5_b_level  \\\n",
       "0                                    -500.037437   \n",
       "1                                    -500.162375   \n",
       "2                                    -499.828510   \n",
       "3                                    -499.963623   \n",
       "4                                    -500.360026   \n",
       "...                                          ...   \n",
       "4859                                 -499.965973   \n",
       "4860                                 -499.942956   \n",
       "4861                                 -500.040448   \n",
       "4862                                 -499.937902   \n",
       "4863                                 -500.337588   \n",
       "\n",
       "      secondary_cleaner.state.floatbank6_a_air  \\\n",
       "0                                    26.705889   \n",
       "1                                    25.019940   \n",
       "2                                    24.994862   \n",
       "3                                    24.948919   \n",
       "4                                    25.003331   \n",
       "...                                        ...   \n",
       "4859                                  8.987171   \n",
       "4860                                  8.986832   \n",
       "4861                                  8.982038   \n",
       "4862                                  9.012660   \n",
       "4863                                  8.988632   \n",
       "\n",
       "      secondary_cleaner.state.floatbank6_a_level  rougher_input_total  \n",
       "0                                    -499.709414            72.871822  \n",
       "1                                    -499.819438            71.669225  \n",
       "2                                    -500.622559            73.202598  \n",
       "3                                    -498.709987            70.757057  \n",
       "4                                    -500.856333            68.654396  \n",
       "...                                          ...                  ...  \n",
       "4859                                 -499.755909            68.910849  \n",
       "4860                                 -499.903761            67.166899  \n",
       "4861                                 -497.789882            66.955814  \n",
       "4862                                 -500.154284            67.420094  \n",
       "4863                                 -500.764937            65.583618  \n",
       "\n",
       "[4864 rows x 53 columns]"
      ]
     },
     "execution_count": 29,
     "metadata": {},
     "output_type": "execute_result"
    }
   ],
   "source": [
    "gold_test_features=gold_test_with_target.drop(['key_0','rougher.output.recovery','final.output.recovery'],axis=1)\n",
    "gold_train.reset_index(drop=True)\n",
    "gold_test_features.reset_index(drop=True)"
   ]
  },
  {
   "cell_type": "markdown",
   "metadata": {},
   "source": [
    "__Константная модель__\n",
    "\n",
    "Создадим константную модель, заполнив её медианным значением, чтобы сравнивать с ней дальнейшие результаты предсказаний."
   ]
  },
  {
   "cell_type": "code",
   "execution_count": 30,
   "metadata": {},
   "outputs": [],
   "source": [
    "rougher_constant = pd.Series([gold_train['rougher.output.recovery'].median() for x in range(len(gold_test_with_target['rougher.output.recovery'].index))])\n",
    "final_constant = pd.Series([gold_train['final.output.recovery'].median() for x in range(len(gold_test_with_target['final.output.recovery'].index))])"
   ]
  },
  {
   "cell_type": "code",
   "execution_count": 31,
   "metadata": {},
   "outputs": [
    {
     "name": "stdout",
     "output_type": "stream",
     "text": [
      "Итоговое значение sMAPE для константной модели равно 6.72\n"
     ]
    }
   ],
   "source": [
    "smape_rougher = (smape(gold_test_with_target['rougher.output.recovery'],\n",
    "                       rougher_constant))\n",
    "smape_final = smape(gold_test_with_target['final.output.recovery'],final_constant)\n",
    "ismape = 0.25*smape_rougher+0.75*smape_final\n",
    "print('Итоговое значение sMAPE для константной модели равно {:.2f}'.format(ismape))"
   ]
  },
  {
   "cell_type": "markdown",
   "metadata": {},
   "source": [
    "__Обучение модели линейной регрессии__"
   ]
  },
  {
   "cell_type": "markdown",
   "metadata": {},
   "source": [
    "Для каждой модели сначала проводим кросс-валидацию на тренировочных данных. После этого проводим анализ на тестовых данных, после чего сравниваем с константной моделью."
   ]
  },
  {
   "cell_type": "code",
   "execution_count": 32,
   "metadata": {},
   "outputs": [],
   "source": [
    "model_linreg_rougher = LinearRegression(normalize=True)\n",
    "model_linreg_final = LinearRegression(normalize=True)"
   ]
  },
  {
   "cell_type": "code",
   "execution_count": 33,
   "metadata": {},
   "outputs": [],
   "source": [
    "linreg_pred_rougher = cross_val_predict(model_linreg_rougher, gold_train_features, gold_train_target_rougher, cv=7)\n",
    "\n",
    "linreg_pred_final = cross_val_predict(model_linreg_final, gold_train_features, gold_train_target_final, cv=7)\n",
    "\n",
    "\n",
    "# scores = cross_val_score(model_linreg_rougher, gold_train_features, gold_train_target_rougher, cv=3, scoring=score)   \n",
    "\n",
    "# print (scores, np.mean(scores), np.std(scores))"
   ]
  },
  {
   "cell_type": "code",
   "execution_count": 34,
   "metadata": {},
   "outputs": [
    {
     "name": "stdout",
     "output_type": "stream",
     "text": [
      "Итоговое значение sMAPE на кросс-валидации на тренировочных данных при линейной регресии равно 8.13\n"
     ]
    }
   ],
   "source": [
    "smape_rougher = smape(gold_train_target_rougher,linreg_pred_rougher)\n",
    "smape_final = smape(gold_train_target_final,linreg_pred_final)\n",
    "ismape = 0.25*smape_rougher+0.75*smape_final\n",
    "print('Итоговое значение sMAPE на кросс-валидации на тренировочных данных при линейной регресии равно {:.2f}'.format(ismape))"
   ]
  },
  {
   "cell_type": "code",
   "execution_count": null,
   "metadata": {},
   "outputs": [],
   "source": []
  },
  {
   "cell_type": "code",
   "execution_count": 35,
   "metadata": {},
   "outputs": [],
   "source": [
    "model_linreg_rougher.fit(gold_train_features,gold_train_target_rougher)\n",
    "gold_test_with_target['predicted_rougher'] = model_linreg_rougher.predict(gold_test_features)\n",
    "\n",
    "model_linreg_final.fit(gold_train_features,gold_train_target_final)\n",
    "gold_test_with_target['predicted_final'] = model_linreg_final.predict(gold_test_features)"
   ]
  },
  {
   "cell_type": "code",
   "execution_count": 36,
   "metadata": {},
   "outputs": [
    {
     "name": "stdout",
     "output_type": "stream",
     "text": [
      "Итоговое значение sMAPE на тестовых данных при линейной регресии равно 6.66\n"
     ]
    }
   ],
   "source": [
    "smape_rougher = (smape(gold_test_with_target['rougher.output.recovery'],\n",
    "                       gold_test_with_target['predicted_rougher']))\n",
    "smape_final = smape(gold_test_with_target['final.output.recovery'],gold_test_with_target['predicted_final'])\n",
    "ismape = 0.25*smape_rougher+0.75*smape_final\n",
    "print('Итоговое значение sMAPE на тестовых данных при линейной регресии равно {:.2f}'.format(ismape))"
   ]
  },
  {
   "cell_type": "markdown",
   "metadata": {},
   "source": [
    "__Обучение модели Stochastic Gradient Descent__"
   ]
  },
  {
   "cell_type": "code",
   "execution_count": 37,
   "metadata": {},
   "outputs": [],
   "source": [
    "model_sgd_rougher = make_pipeline(StandardScaler(), SGDRegressor(max_iter=1000, tol=1e-3, random_state=12345))\n",
    "model_sgd_final = make_pipeline(StandardScaler(), SGDRegressor(max_iter=1000, tol=1e-3, random_state=12345))"
   ]
  },
  {
   "cell_type": "code",
   "execution_count": 38,
   "metadata": {},
   "outputs": [],
   "source": [
    "sgd_pred_rougher = cross_val_predict(model_sgd_rougher, gold_train_features, gold_train_target_rougher, cv=7)\n",
    "\n",
    "sgd_pred_final = cross_val_predict(model_sgd_final, gold_train_features, gold_train_target_final, cv=7)"
   ]
  },
  {
   "cell_type": "code",
   "execution_count": 39,
   "metadata": {},
   "outputs": [
    {
     "name": "stdout",
     "output_type": "stream",
     "text": [
      "Итоговое значение sMAPE на кросс-валидации на тренировочных данных при Stochastic Gradient Descent равно 8.18\n"
     ]
    }
   ],
   "source": [
    "smape_rougher = smape(gold_train_target_rougher,sgd_pred_rougher)\n",
    "smape_final = smape(gold_train_target_final,sgd_pred_final)\n",
    "ismape = 0.25*smape_rougher+0.75*smape_final\n",
    "print('Итоговое значение sMAPE на кросс-валидации на тренировочных данных при Stochastic Gradient Descent равно {:.2f}'.format(ismape))"
   ]
  },
  {
   "cell_type": "code",
   "execution_count": 40,
   "metadata": {},
   "outputs": [],
   "source": [
    "model_sgd_rougher.fit(gold_train_features,gold_train_target_rougher)\n",
    "gold_test_with_target['predicted_rougher'] = model_sgd_rougher.predict(gold_test_features)\n",
    "\n",
    "model_sgd_final.fit(gold_train_features,gold_train_target_final)\n",
    "gold_test_with_target['predicted_final'] = model_sgd_final.predict(gold_test_features)"
   ]
  },
  {
   "cell_type": "code",
   "execution_count": 41,
   "metadata": {},
   "outputs": [
    {
     "name": "stdout",
     "output_type": "stream",
     "text": [
      "Итоговое значение sMAPE на тестовых данных при Stochastic Gradient Descent равно 6.76\n"
     ]
    }
   ],
   "source": [
    "smape_rougher = (smape(gold_test_with_target['rougher.output.recovery'],\n",
    "                       gold_test_with_target['predicted_rougher']))\n",
    "smape_final = smape(gold_test_with_target['final.output.recovery'],gold_test_with_target['predicted_final'])\n",
    "ismape = 0.25*smape_rougher+0.75*smape_final\n",
    "print('Итоговое значение sMAPE на тестовых данных при Stochastic Gradient Descent равно {:.2f}'.format(ismape))"
   ]
  },
  {
   "cell_type": "markdown",
   "metadata": {},
   "source": [
    "__Обучение модели к-ближайших соседей__"
   ]
  },
  {
   "cell_type": "code",
   "execution_count": 42,
   "metadata": {},
   "outputs": [],
   "source": [
    "model_knn_rougher = KNeighborsRegressor()\n",
    "model_knn_final = KNeighborsRegressor()"
   ]
  },
  {
   "cell_type": "code",
   "execution_count": 43,
   "metadata": {},
   "outputs": [],
   "source": [
    "knn_pred_rougher = cross_val_predict(model_knn_rougher, gold_train_features, gold_train_target_rougher, cv=7)\n",
    "\n",
    "knn_pred_final = cross_val_predict(model_knn_final, gold_train_features, gold_train_target_final, cv=7)"
   ]
  },
  {
   "cell_type": "code",
   "execution_count": 44,
   "metadata": {},
   "outputs": [
    {
     "name": "stdout",
     "output_type": "stream",
     "text": [
      "Итоговое значение sMAPE на кросс-валидации на тренировочных данных при модели к-ближайших соседей равно 9.78\n"
     ]
    }
   ],
   "source": [
    "smape_rougher = smape(gold_train_target_rougher,knn_pred_rougher)\n",
    "smape_final = smape(gold_train_target_final,knn_pred_final)\n",
    "ismape = 0.25*smape_rougher+0.75*smape_final\n",
    "print('Итоговое значение sMAPE на кросс-валидации на тренировочных данных при модели к-ближайших соседей равно {:.2f}'.format(ismape))"
   ]
  },
  {
   "cell_type": "code",
   "execution_count": 45,
   "metadata": {},
   "outputs": [],
   "source": [
    "model_knn_rougher.fit(gold_train_features,gold_train_target_rougher)\n",
    "gold_test_with_target['predicted_rougher'] = model_knn_rougher.predict(gold_test_features)\n",
    "\n",
    "model_knn_final.fit(gold_train_features,gold_train_target_final)\n",
    "gold_test_with_target['predicted_final'] = model_knn_final.predict(gold_test_features)"
   ]
  },
  {
   "cell_type": "code",
   "execution_count": 46,
   "metadata": {},
   "outputs": [
    {
     "name": "stdout",
     "output_type": "stream",
     "text": [
      "Итоговое значение sMAPE на тестовых данных при к-ближайших соседей равно 8.40\n"
     ]
    }
   ],
   "source": [
    "smape_rougher = (smape(gold_test_with_target['rougher.output.recovery'],\n",
    "                       gold_test_with_target['predicted_rougher']))\n",
    "smape_final = smape(gold_test_with_target['final.output.recovery'],gold_test_with_target['predicted_final'])\n",
    "ismape = 0.25*smape_rougher+0.75*smape_final\n",
    "print('Итоговое значение sMAPE на тестовых данных при к-ближайших соседей равно {:.2f}'.format(ismape))"
   ]
  },
  {
   "cell_type": "markdown",
   "metadata": {},
   "source": [
    "__Построение модели гребневой регрессии со встроенной кросс-валидацией__"
   ]
  },
  {
   "cell_type": "code",
   "execution_count": 47,
   "metadata": {},
   "outputs": [],
   "source": [
    "from sklearn.metrics import make_scorer\n",
    "from sklearn.model_selection import KFold\n",
    "score=make_scorer(smape, greater_is_better=False)\n"
   ]
  },
  {
   "cell_type": "code",
   "execution_count": 57,
   "metadata": {
    "scrolled": true
   },
   "outputs": [
    {
     "name": "stdout",
     "output_type": "stream",
     "text": [
      "При cv = 2 и {'alpha': 1000.0} для модели Ridge, обученной на тренировочных данных, SMAPE после флотации равно 10.40:\n",
      "\n",
      "При cv = 4 и {'alpha': 1000.0} для модели Ridge, обученной на тренировочных данных, SMAPE после флотации равно 6.94:\n",
      "\n",
      "При cv = 6 и {'alpha': 1000.0} для модели Ridge, обученной на тренировочных данных, SMAPE после флотации равно 6.04:\n",
      "\n",
      "При cv = 8 и {'alpha': 1000.0} для модели Ridge, обученной на тренировочных данных, SMAPE после флотации равно 5.81:\n",
      "\n",
      "При cv = 10 и {'alpha': 1000.0} для модели Ridge, обученной на тренировочных данных, SMAPE после флотации равно 5.55:\n",
      "\n",
      "При cv = 2 и {'alpha': 1000.0} для модели Ridge, обученной на тренировочных данных, SMAPE после финальной очистки равно 9.85:\n",
      "\n",
      "При cv = 4 и {'alpha': 10000.0} для модели Ridge, обученной на тренировочных данных, SMAPE после финальной очистки равно 8.32:\n",
      "\n",
      "При cv = 6 и {'alpha': 10000.0} для модели Ridge, обученной на тренировочных данных, SMAPE после финальной очистки равно 8.46:\n",
      "\n",
      "При cv = 8 и {'alpha': 10000.0} для модели Ridge, обученной на тренировочных данных, SMAPE после финальной очистки равно 8.25:\n",
      "\n",
      "При cv = 10 и {'alpha': 10000.0} для модели Ridge, обученной на тренировочных данных, SMAPE после финальной очистки равно 7.95:\n",
      "\n"
     ]
    }
   ],
   "source": [
    "#подбираем лучшие параметры для модели Ridge\n",
    "for cv in np.arange(2, 11,2):\n",
    "    GS = GridSearchCV(\n",
    "        cv=cv, estimator=Ridge(),\n",
    "        param_grid=[{'alpha': [10e-2, 10e-1, 10e0, 10e1, 10e2]}],\n",
    "        scoring=score)\n",
    "    GS.fit(gold_train_features, gold_train_target_rougher)\n",
    "    print('При cv = {} и {} для модели Ridge, обученной на тренировочных данных, SMAPE после флотации равно {:.2f}:\\n'.format(cv, GS.best_params_, (-1)*GS.best_score_))\n",
    "    \n",
    "for cv in np.arange(2, 11,2):\n",
    "    GS = GridSearchCV(\n",
    "        cv=cv, estimator=Ridge(),\n",
    "        param_grid=[{'alpha': [10e-2, 10e-1, 10e0, 10e1, 10e2, 10e3]}],\n",
    "        scoring=score)\n",
    "    GS.fit(gold_train_features, gold_train_target_final)\n",
    "    print('При cv = {} и {} для модели Ridge, обученной на тренировочных данных, SMAPE после финальной очистки равно {:.2f}:\\n'.format(cv, GS.best_params_, (-1)*GS.best_score_))    "
   ]
  },
  {
   "cell_type": "code",
   "execution_count": 58,
   "metadata": {},
   "outputs": [
    {
     "name": "stdout",
     "output_type": "stream",
     "text": [
      "Итоговое SMAPE при cv=10 для тренировочных данных равно 7.35\n"
     ]
    }
   ],
   "source": [
    "print('Итоговое SMAPE при cv=10 для тренировочных данных равно {:.2f}'.format(5.55*0.25+7.95*0.75))"
   ]
  },
  {
   "cell_type": "code",
   "execution_count": null,
   "metadata": {},
   "outputs": [],
   "source": [
    "smape_rougher = smape(gold_train_target_rougher,ridge_pred_rougher)\n",
    "smape_final = smape(gold_train_target_final,ridge_pred_final)\n",
    "ismape = 0.25*smape_rougher+0.75*smape_final\n",
    "print('Итоговое значение sMAPE на кросс-валидации на тренировочных данных при модели гребневой регрессии со встроенной кросс-валидацией равно {:.2f}'.format(ismape))"
   ]
  },
  {
   "cell_type": "code",
   "execution_count": 53,
   "metadata": {},
   "outputs": [],
   "source": [
    "# alphas = [10e-2, 10e-1, 10e0, 10e1, 10e2, 10e3]\n",
    "model_ridge_rougher = RidgeCV(normalize=True,cv=10,scoring = score)\n",
    "model_ridge_final =  RidgeCV(normalize=True,cv=10,scoring = score)   \n",
    "\n",
    "model_ridge_rougher.fit(gold_train_features, gold_train_target_rougher)\n",
    "model_ridge_final.fit(gold_train_features, gold_train_target_final)\n",
    "\n",
    "gold_test_with_target['predicted_rougher'] = model_ridge_rougher.predict(gold_test_features)\n",
    "\n",
    "gold_test_with_target['predicted_final'] = model_ridge_final.predict(gold_test_features)"
   ]
  },
  {
   "cell_type": "code",
   "execution_count": 55,
   "metadata": {},
   "outputs": [
    {
     "name": "stdout",
     "output_type": "stream",
     "text": [
      "Итоговое значение sMAPE на тестовых данных при модели гребневой регрессии со встроенной кросс-валидацией равно 6.12\n"
     ]
    }
   ],
   "source": [
    "smape_rougher = (smape(gold_test_with_target['rougher.output.recovery'],\n",
    "                       gold_test_with_target['predicted_rougher']))\n",
    "smape_final = smape(gold_test_with_target['final.output.recovery'],gold_test_with_target['predicted_final'])\n",
    "ismape = 0.25*smape_rougher+0.75*smape_final\n",
    "print('Итоговое значение sMAPE на тестовых данных при модели гребневой регрессии со встроенной кросс-валидацией равно {:.2f}'.format(ismape))"
   ]
  },
  {
   "cell_type": "markdown",
   "metadata": {},
   "source": [
    "__Построение модели методом случайного леса__"
   ]
  },
  {
   "cell_type": "code",
   "execution_count": 69,
   "metadata": {},
   "outputs": [],
   "source": [
    "model_rf_rougher = RandomForestRegressor(random_state=12345,n_estimators=10)\n",
    "\n",
    "model_rf_final = RandomForestRegressor(random_state=12345, n_estimators=10)"
   ]
  },
  {
   "cell_type": "code",
   "execution_count": 70,
   "metadata": {},
   "outputs": [],
   "source": [
    "rf_pred_rougher = cross_val_predict(model_rf_rougher, gold_train_features, gold_train_target_rougher, cv=3)\n",
    "\n",
    "rf_pred_final = cross_val_predict(model_rf_final,gold_train_features, gold_train_target_final, cv=3)"
   ]
  },
  {
   "cell_type": "markdown",
   "metadata": {},
   "source": [
    "__Примечание:__ очень долго загружался Jupyter,  поэтому уменьшил количество cv до трёх"
   ]
  },
  {
   "cell_type": "code",
   "execution_count": 71,
   "metadata": {},
   "outputs": [
    {
     "name": "stdout",
     "output_type": "stream",
     "text": [
      "Итоговое значение sMAPE на кросс-валидации на тренировочных данных при модели случайного леса равно 9.04\n"
     ]
    }
   ],
   "source": [
    "smape_rougher = smape(gold_train_target_rougher,rf_pred_rougher)\n",
    "smape_final = smape(gold_train_target_final,rf_pred_final)\n",
    "ismape = 0.25*smape_rougher+0.75*smape_final\n",
    "print('Итоговое значение sMAPE на кросс-валидации на тренировочных данных при модели случайного леса равно {:.2f}'.format(ismape))"
   ]
  },
  {
   "cell_type": "code",
   "execution_count": 72,
   "metadata": {},
   "outputs": [],
   "source": [
    "model_rf_rougher.fit(gold_train_features,gold_train_target_rougher)\n",
    "gold_test_with_target['predicted_rougher'] = model_rf_rougher.predict(gold_test_features)\n",
    "\n",
    "model_rf_final.fit(gold_train_features,gold_train_target_final)\n",
    "gold_test_with_target['predicted_final'] = model_rf_final.predict(gold_test_features)"
   ]
  },
  {
   "cell_type": "code",
   "execution_count": 73,
   "metadata": {},
   "outputs": [
    {
     "name": "stdout",
     "output_type": "stream",
     "text": [
      "Итоговое значение sMAPE на тестовых данных при модели случайного леса равно 6.62\n"
     ]
    }
   ],
   "source": [
    "smape_rougher = (smape(gold_test_with_target['rougher.output.recovery'],\n",
    "                       gold_test_with_target['predicted_rougher']))\n",
    "smape_final = smape(gold_test_with_target['final.output.recovery'],gold_test_with_target['predicted_final'])\n",
    "ismape = 0.25*smape_rougher+0.75*smape_final\n",
    "print('Итоговое значение sMAPE на тестовых данных при модели случайного леса равно {:.2f}'.format(ismape))"
   ]
  },
  {
   "cell_type": "markdown",
   "metadata": {},
   "source": [
    "__Итоговый вывод__\n",
    "\n",
    "Наилучший результат, из представленных выше, при параметрах по умолчанию, выдаёт модель гребневой регрессии со встроенной кросс-валидацией.\n",
    "Также она соответсвует условию - итовое MAPE ниже, чем у константной модели.\n",
    "\n",
    "Итоговые результаты:\n",
    "\n",
    "  <table border=\"1\" width=\"100%\" cellpadding=\"5\">\n",
    "   <tr>\n",
    "    <th></th>\n",
    "    <th>Итоговое SMAPE на тренировочных данных</th>\n",
    "    <th>Итоговое SMAPE на тестовых данных</th>\n",
    "   </tr>\n",
    "   <tr>\n",
    "    <td>Константная модель</td>   \n",
    "    <td></td>\n",
    "    <td bgcolor=\"#FFFF00\">6.72</td>\n",
    "  </tr>\n",
    "    <tr>\n",
    "    <td>Модель линейной регрессии</td>   \n",
    "    <td>8.13</td>\n",
    "    <td bgcolor=\"#32CD32\">6.66</td>\n",
    "  </tr>\n",
    "  </tr>\n",
    "    <tr>\n",
    "    <td>Модель Stochastic Gradient Descent</td>   \n",
    "    <td>8.18</td>\n",
    "    <td>6.76</td>\n",
    "  </tr>\n",
    "  </tr>\n",
    "    <tr>\n",
    "    <td>Модель к-ближайших соседей</td>   \n",
    "    <td>9.78</td>\n",
    "    <td>8.40</td>\n",
    "  </tr>\n",
    "  </tr>\n",
    "    <tr>\n",
    "    <td>Модель гребневой регрессии со встроенной кросс-валидацией</td>   \n",
    "    <td >7.35</td>\n",
    "    <td bgcolor=\"#32CD32\">6.12</td>\n",
    "  </tr>\n",
    "  </tr>\n",
    "    <tr>\n",
    "    <td>Модель случайного леса</td>   \n",
    "    <td>9,04</td>\n",
    "    <td bgcolor=\"#32CD32\">6.62</td>\n",
    "  </tr>\n",
    " </table>\n",
    " \n",
    " \n",
    " \n",
    "## Итог\n",
    "\n",
    "Только 3 модели достигли требуемого показателя (итовое MAPE ниже, чем у константной модели).\n",
    "\n",
    "Из них модель гребневой регрессии со встроенной кросс-валидацией лидирует с заметным отрывом!"
   ]
  }
 ],
 "metadata": {
  "kernelspec": {
   "display_name": "Python 3",
   "language": "python",
   "name": "python3"
  },
  "language_info": {
   "codemirror_mode": {
    "name": "ipython",
    "version": 3
   },
   "file_extension": ".py",
   "mimetype": "text/x-python",
   "name": "python",
   "nbconvert_exporter": "python",
   "pygments_lexer": "ipython3",
   "version": "3.8.5"
  }
 },
 "nbformat": 4,
 "nbformat_minor": 2
}
